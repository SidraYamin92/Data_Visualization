{
  "nbformat": 4,
  "nbformat_minor": 0,
  "metadata": {
    "colab": {
      "provenance": []
    },
    "kernelspec": {
      "name": "python3",
      "display_name": "Python 3"
    },
    "language_info": {
      "name": "python"
    }
  },
  "cells": [
    {
      "cell_type": "code",
      "execution_count": null,
      "metadata": {
        "colab": {
          "base_uri": "https://localhost:8080/"
        },
        "id": "CtpcpTvsRV1C",
        "outputId": "ce8aa76a-06af-4a44-a0c1-98125608d86e"
      },
      "outputs": [
        {
          "output_type": "stream",
          "name": "stdout",
          "text": [
            "/bin/bash: line 1: mamba: command not found\n",
            "Collecting lxml==4.6.4\n",
            "  Downloading lxml-4.6.4.tar.gz (3.2 MB)\n",
            "\u001b[2K     \u001b[90m━━━━━━━━━━━━━━━━━━━━━━━━━━━━━━━━━━━━━━━━\u001b[0m \u001b[32m3.2/3.2 MB\u001b[0m \u001b[31m19.3 MB/s\u001b[0m eta \u001b[36m0:00:00\u001b[0m\n",
            "\u001b[?25h  \u001b[1;31merror\u001b[0m: \u001b[1msubprocess-exited-with-error\u001b[0m\n",
            "  \n",
            "  \u001b[31m×\u001b[0m \u001b[32mpython setup.py egg_info\u001b[0m did not run successfully.\n",
            "  \u001b[31m│\u001b[0m exit code: \u001b[1;36m1\u001b[0m\n",
            "  \u001b[31m╰─>\u001b[0m See above for output.\n",
            "  \n",
            "  \u001b[1;35mnote\u001b[0m: This error originates from a subprocess, and is likely not a problem with pip.\n",
            "  Preparing metadata (setup.py) ... \u001b[?25l\u001b[?25herror\n",
            "\u001b[1;31merror\u001b[0m: \u001b[1mmetadata-generation-failed\u001b[0m\n",
            "\n",
            "\u001b[31m×\u001b[0m Encountered error while generating package metadata.\n",
            "\u001b[31m╰─>\u001b[0m See above for output.\n",
            "\n",
            "\u001b[1;35mnote\u001b[0m: This is an issue with the package mentioned above, not pip.\n",
            "\u001b[1;36mhint\u001b[0m: See above for details.\n",
            "/bin/bash: line 1: mamba: command not found\n"
          ]
        }
      ],
      "source": [
        "!mamba install bs4==4.10.0 -y\n",
        "!pip install lxml==4.6.4\n",
        "!mamba install html5lib==1.1 -y\n"
      ]
    },
    {
      "cell_type": "code",
      "source": [
        "from bs4 import BeautifulSoup\n",
        "import requests"
      ],
      "metadata": {
        "id": "dM_4EhrORreZ"
      },
      "execution_count": null,
      "outputs": []
    },
    {
      "cell_type": "code",
      "source": [
        "%%html\n",
        "<!DOCTYPE html>\n",
        "<html>\n",
        "<head>\n",
        "<title> Salaries <title>\n",
        "</head>\n",
        "<body>\n",
        "<h3><b id='boldest'>Lebron James</b></h3>\n",
        "<p> Salary: $ 92,000,000 </p>\n",
        "<h3> Stephen Curry</h3>\n",
        "<p> Salary: $85,000, 000 </p>\n",
        "<h3> Kevin Durant </h3>\n",
        "<p> Salary: $73,200, 000</p>\n",
        "</body>\n",
        "</html>"
      ],
      "metadata": {
        "colab": {
          "base_uri": "https://localhost:8080/",
          "height": 17
        },
        "id": "-PFhnWngR6OZ",
        "outputId": "82d8269d-260a-4a58-ce81-413e3ce4d2da"
      },
      "execution_count": null,
      "outputs": [
        {
          "output_type": "display_data",
          "data": {
            "text/plain": [
              "<IPython.core.display.HTML object>"
            ],
            "text/html": [
              "<!DOCTYPE html>\n",
              "<html>\n",
              "<head>\n",
              "<title> Salaries <title>\n",
              "</head>\n",
              "<body>\n",
              "<h3><b id='boldest'>Lebron James</b></h3>\n",
              "<p> Salary: $ 92,000,000 </p>\n",
              "<h3> Stephen Curry</h3>\n",
              "<p> Salary: $85,000, 000 </p>\n",
              "<h3> Kevin Durant </h3>\n",
              "<p> Salary: $73,200, 000</p>\n",
              "</body>\n",
              "</html>\n"
            ]
          },
          "metadata": {}
        }
      ]
    },
    {
      "cell_type": "code",
      "source": [
        "html=\"<!DOCTYPE html><html><head><title>Salaries</title></head><body><h3><b id='boldest'>Lebron James</b></h3><p> Salary: $ 92,000,000 </p><h3> Stephen Curry</h3><p> Salary: $85,000, 000 </p><h3> Kevin Durant </h3><p> Salary: $73,200, 000</p></body></html>\""
      ],
      "metadata": {
        "id": "mtUWcTXCSTOf"
      },
      "execution_count": null,
      "outputs": []
    },
    {
      "cell_type": "code",
      "source": [
        "soup = BeautifulSoup(html, 'html.parser')\n",
        "\n",
        "print(soup.prettify())\n"
      ],
      "metadata": {
        "colab": {
          "base_uri": "https://localhost:8080/"
        },
        "id": "FdkSzC3ESczt",
        "outputId": "e7a00b49-23a1-41aa-d7f5-b99840af2c11"
      },
      "execution_count": null,
      "outputs": [
        {
          "output_type": "stream",
          "name": "stdout",
          "text": [
            "<!DOCTYPE html>\n",
            "<html>\n",
            " <head>\n",
            "  <title>\n",
            "   Salaries\n",
            "  </title>\n",
            " </head>\n",
            " <body>\n",
            "  <h3>\n",
            "   <b id=\"boldest\">\n",
            "    Lebron James\n",
            "   </b>\n",
            "  </h3>\n",
            "  <p>\n",
            "   Salary: $ 92,000,000\n",
            "  </p>\n",
            "  <h3>\n",
            "   Stephen Curry\n",
            "  </h3>\n",
            "  <p>\n",
            "   Salary: $85,000, 000\n",
            "  </p>\n",
            "  <h3>\n",
            "   Kevin Durant\n",
            "  </h3>\n",
            "  <p>\n",
            "   Salary: $73,200, 000\n",
            "  </p>\n",
            " </body>\n",
            "</html>\n",
            "\n"
          ]
        }
      ]
    },
    {
      "cell_type": "code",
      "source": [
        "tag_object=soup.title\n",
        "print(\"tag object:\",tag_object)"
      ],
      "metadata": {
        "colab": {
          "base_uri": "https://localhost:8080/"
        },
        "id": "TVKLuHrXSfI3",
        "outputId": "3d7865ae-4df7-4d28-d1c5-c9e724ad9663"
      },
      "execution_count": null,
      "outputs": [
        {
          "output_type": "stream",
          "name": "stdout",
          "text": [
            "tag object: <title>Salaries</title>\n"
          ]
        }
      ]
    },
    {
      "cell_type": "code",
      "source": [
        "print(\"tag object type:\",type(tag_object))"
      ],
      "metadata": {
        "colab": {
          "base_uri": "https://localhost:8080/"
        },
        "id": "LJhaPg9sSq0W",
        "outputId": "386b3833-8a6d-4dc2-950d-8b2745ede378"
      },
      "execution_count": null,
      "outputs": [
        {
          "output_type": "stream",
          "name": "stdout",
          "text": [
            "tag object type: <class 'bs4.element.Tag'>\n"
          ]
        }
      ]
    },
    {
      "cell_type": "code",
      "source": [
        "tag_object=soup.h3\n",
        "tag_object"
      ],
      "metadata": {
        "colab": {
          "base_uri": "https://localhost:8080/"
        },
        "id": "nsqV3K3gS0cy",
        "outputId": "82ec82bd-6fac-4cfa-f05c-ae8b64e2fe41"
      },
      "execution_count": null,
      "outputs": [
        {
          "output_type": "execute_result",
          "data": {
            "text/plain": [
              "<h3><b id=\"boldest\">Lebron James</b></h3>"
            ]
          },
          "metadata": {},
          "execution_count": 12
        }
      ]
    },
    {
      "cell_type": "code",
      "source": [
        "tag_child =tag_object.b\n",
        "tag_child"
      ],
      "metadata": {
        "colab": {
          "base_uri": "https://localhost:8080/"
        },
        "id": "-VT3VnKLS2Bv",
        "outputId": "90a2bc20-8e72-410d-f1a0-d203ca3a2750"
      },
      "execution_count": null,
      "outputs": [
        {
          "output_type": "execute_result",
          "data": {
            "text/plain": [
              "<b id=\"boldest\">Lebron James</b>"
            ]
          },
          "metadata": {},
          "execution_count": 13
        }
      ]
    },
    {
      "cell_type": "code",
      "source": [
        "parent_tag=tag_child.parent\n",
        "parent_tag"
      ],
      "metadata": {
        "colab": {
          "base_uri": "https://localhost:8080/"
        },
        "id": "6eoV49bKS3w_",
        "outputId": "0a72bfb5-8905-4dfc-d355-ed1293770603"
      },
      "execution_count": null,
      "outputs": [
        {
          "output_type": "execute_result",
          "data": {
            "text/plain": [
              "<h3><b id=\"boldest\">Lebron James</b></h3>"
            ]
          },
          "metadata": {},
          "execution_count": 14
        }
      ]
    },
    {
      "cell_type": "code",
      "source": [
        "tag_object"
      ],
      "metadata": {
        "colab": {
          "base_uri": "https://localhost:8080/"
        },
        "id": "vuhGBq_KS47R",
        "outputId": "3c1268b6-57ca-4abc-c59a-7be1509ccd46"
      },
      "execution_count": null,
      "outputs": [
        {
          "output_type": "execute_result",
          "data": {
            "text/plain": [
              "<h3><b id=\"boldest\">Lebron James</b></h3>"
            ]
          },
          "metadata": {},
          "execution_count": 15
        }
      ]
    },
    {
      "cell_type": "code",
      "source": [
        "tag_object.parent"
      ],
      "metadata": {
        "colab": {
          "base_uri": "https://localhost:8080/"
        },
        "id": "o0ap3_BrS6kb",
        "outputId": "04f4fa11-304e-4f48-f58b-7ce59c92cfb8"
      },
      "execution_count": null,
      "outputs": [
        {
          "output_type": "execute_result",
          "data": {
            "text/plain": [
              "<body><h3><b id=\"boldest\">Lebron James</b></h3><p> Salary: $ 92,000,000 </p><h3> Stephen Curry</h3><p> Salary: $85,000, 000 </p><h3> Kevin Durant </h3><p> Salary: $73,200, 000</p></body>"
            ]
          },
          "metadata": {},
          "execution_count": 16
        }
      ]
    },
    {
      "cell_type": "code",
      "source": [
        "sibling_1=tag_object.next_sibling\n",
        "sibling_1"
      ],
      "metadata": {
        "colab": {
          "base_uri": "https://localhost:8080/"
        },
        "id": "2-Y-mvVUTWfR",
        "outputId": "2e6b0053-7b5f-4bca-cd69-aa785e9d8441"
      },
      "execution_count": null,
      "outputs": [
        {
          "output_type": "execute_result",
          "data": {
            "text/plain": [
              "<p> Salary: $ 92,000,000 </p>"
            ]
          },
          "metadata": {},
          "execution_count": 17
        }
      ]
    },
    {
      "cell_type": "code",
      "source": [
        "sibling_2=sibling_1.next_sibling\n",
        "sibling_2"
      ],
      "metadata": {
        "colab": {
          "base_uri": "https://localhost:8080/"
        },
        "id": "E_R3FWvJTZJg",
        "outputId": "d18a1015-acb1-4249-d194-ff7e59b6c4e2"
      },
      "execution_count": null,
      "outputs": [
        {
          "output_type": "execute_result",
          "data": {
            "text/plain": [
              "<h3> Stephen Curry</h3>"
            ]
          },
          "metadata": {},
          "execution_count": 18
        }
      ]
    },
    {
      "cell_type": "code",
      "source": [
        "sibling_2.next_sibling"
      ],
      "metadata": {
        "colab": {
          "base_uri": "https://localhost:8080/"
        },
        "id": "3EWyKAXPTawx",
        "outputId": "0d96366f-d761-46da-c937-70f9039d17d3"
      },
      "execution_count": null,
      "outputs": [
        {
          "output_type": "execute_result",
          "data": {
            "text/plain": [
              "<p> Salary: $85,000, 000 </p>"
            ]
          },
          "metadata": {},
          "execution_count": 19
        }
      ]
    },
    {
      "cell_type": "code",
      "source": [
        "tag_child['id']"
      ],
      "metadata": {
        "colab": {
          "base_uri": "https://localhost:8080/",
          "height": 36
        },
        "id": "QoOQPH0wTeGz",
        "outputId": "2f93bb9e-cbc3-43ef-c8a7-95d56f050309"
      },
      "execution_count": null,
      "outputs": [
        {
          "output_type": "execute_result",
          "data": {
            "text/plain": [
              "'boldest'"
            ],
            "application/vnd.google.colaboratory.intrinsic+json": {
              "type": "string"
            }
          },
          "metadata": {},
          "execution_count": 20
        }
      ]
    },
    {
      "cell_type": "code",
      "source": [
        "tag_child.attrs"
      ],
      "metadata": {
        "colab": {
          "base_uri": "https://localhost:8080/"
        },
        "id": "kWwSdAGQTgWy",
        "outputId": "3e76fcd0-5df8-4f0d-a54a-1559143b621c"
      },
      "execution_count": null,
      "outputs": [
        {
          "output_type": "execute_result",
          "data": {
            "text/plain": [
              "{'id': 'boldest'}"
            ]
          },
          "metadata": {},
          "execution_count": 21
        }
      ]
    },
    {
      "cell_type": "code",
      "source": [
        "tag_child.get('id')"
      ],
      "metadata": {
        "colab": {
          "base_uri": "https://localhost:8080/",
          "height": 36
        },
        "id": "VYSocPdoThcM",
        "outputId": "6967ca0a-9d66-4a3d-d4e1-0aca0a039240"
      },
      "execution_count": null,
      "outputs": [
        {
          "output_type": "execute_result",
          "data": {
            "text/plain": [
              "'boldest'"
            ],
            "application/vnd.google.colaboratory.intrinsic+json": {
              "type": "string"
            }
          },
          "metadata": {},
          "execution_count": 22
        }
      ]
    },
    {
      "cell_type": "code",
      "source": [
        "tag_string=tag_child.string\n",
        "tag_string"
      ],
      "metadata": {
        "colab": {
          "base_uri": "https://localhost:8080/",
          "height": 36
        },
        "id": "ed_ZzqILTi2Y",
        "outputId": "6b31b3b7-5b88-465b-bc42-9a1b5a14919f"
      },
      "execution_count": null,
      "outputs": [
        {
          "output_type": "execute_result",
          "data": {
            "text/plain": [
              "'Lebron James'"
            ],
            "application/vnd.google.colaboratory.intrinsic+json": {
              "type": "string"
            }
          },
          "metadata": {},
          "execution_count": 23
        }
      ]
    },
    {
      "cell_type": "code",
      "source": [
        "type(tag_string)\n",
        "unicode_string = str(tag_string)\n",
        "unicode_string\n"
      ],
      "metadata": {
        "colab": {
          "base_uri": "https://localhost:8080/",
          "height": 36
        },
        "id": "-JMYdEBfTkRb",
        "outputId": "b99d4d11-448d-47ae-8b67-e242653c5ae4"
      },
      "execution_count": null,
      "outputs": [
        {
          "output_type": "execute_result",
          "data": {
            "text/plain": [
              "'Lebron James'"
            ],
            "application/vnd.google.colaboratory.intrinsic+json": {
              "type": "string"
            }
          },
          "metadata": {},
          "execution_count": 24
        }
      ]
    },
    {
      "cell_type": "code",
      "source": [
        "%%html\n",
        "<table>\n",
        "  <tr>\n",
        "    <td id='flight' >Flight No</td>\n",
        "    <td>Launch site</td>\n",
        "    <td>Payload mass</td>\n",
        "   </tr>\n",
        "  <tr>\n",
        "    <td>1</td>\n",
        "    <td><a href='https://en.wikipedia.org/wiki/Florida'>Florida</a></td>\n",
        "    <td>300 kg</td>\n",
        "  </tr>\n",
        "  <tr>\n",
        "    <td>2</td>\n",
        "    <td><a href='https://en.wikipedia.org/wiki/Texas'>Texas</a></td>\n",
        "    <td>94 kg</td>\n",
        "  </tr>\n",
        "  <tr>\n",
        "    <td>3</td>\n",
        "    <td><a href='https://en.wikipedia.org/wiki/Florida'>Florida</a> </td>\n",
        "    <td>80 kg</td>\n",
        "  </tr>\n",
        "</table>"
      ],
      "metadata": {
        "colab": {
          "base_uri": "https://localhost:8080/",
          "height": 103
        },
        "id": "KImR6-nXTnM4",
        "outputId": "f718fe73-b168-49e6-c550-998e5e317b79"
      },
      "execution_count": null,
      "outputs": [
        {
          "output_type": "display_data",
          "data": {
            "text/plain": [
              "<IPython.core.display.HTML object>"
            ],
            "text/html": [
              "<table>\n",
              "  <tr>\n",
              "    <td id='flight' >Flight No</td>\n",
              "    <td>Launch site</td> \n",
              "    <td>Payload mass</td>\n",
              "   </tr>\n",
              "  <tr> \n",
              "    <td>1</td>\n",
              "    <td><a href='https://en.wikipedia.org/wiki/Florida'>Florida</a></td>\n",
              "    <td>300 kg</td>\n",
              "  </tr>\n",
              "  <tr>\n",
              "    <td>2</td>\n",
              "    <td><a href='https://en.wikipedia.org/wiki/Texas'>Texas</a></td>\n",
              "    <td>94 kg</td>\n",
              "  </tr>\n",
              "  <tr>\n",
              "    <td>3</td>\n",
              "    <td><a href='https://en.wikipedia.org/wiki/Florida'>Florida</a> </td>\n",
              "    <td>80 kg</td>\n",
              "  </tr>\n",
              "</table>\n"
            ]
          },
          "metadata": {}
        }
      ]
    },
    {
      "cell_type": "code",
      "source": [
        "table=\"<table><tr><td id='flight' >Flight No</td><td>Launch site</td><td>Payload mass</td></tr><tr><td>1</td><td><a href='https://en.wikipedia.org/wiki/Florida'>Florida</a></td><td>300 kg</td></tr><tr><td>2</td><td><a href='https://en.wikipedia.org/wiki/Texas'>Texas</a></td><td>94 kg</td></tr><tr><td>3</td><td><a href='https://en.wikipedia.org/wiki/Florida'>Florida</a> </td><td>80 kg</td></tr></table>\""
      ],
      "metadata": {
        "id": "6PI30I-2Tp8F"
      },
      "execution_count": null,
      "outputs": []
    },
    {
      "cell_type": "code",
      "source": [
        "table_bs = BeautifulSoup(table, \"html.parser\")"
      ],
      "metadata": {
        "id": "2jImFneFTr7u"
      },
      "execution_count": null,
      "outputs": []
    },
    {
      "cell_type": "code",
      "source": [
        "table_rows=table_bs.find_all('tr')\n",
        "table_rows"
      ],
      "metadata": {
        "colab": {
          "base_uri": "https://localhost:8080/"
        },
        "id": "pNxbSWkSTtP3",
        "outputId": "a71e4208-b6ac-4ec0-c996-f6cfd076ff35"
      },
      "execution_count": null,
      "outputs": [
        {
          "output_type": "execute_result",
          "data": {
            "text/plain": [
              "[<tr><td id=\"flight\">Flight No</td><td>Launch site</td><td>Payload mass</td></tr>,\n",
              " <tr><td>1</td><td><a href=\"https://en.wikipedia.org/wiki/Florida\">Florida</a></td><td>300 kg</td></tr>,\n",
              " <tr><td>2</td><td><a href=\"https://en.wikipedia.org/wiki/Texas\">Texas</a></td><td>94 kg</td></tr>,\n",
              " <tr><td>3</td><td><a href=\"https://en.wikipedia.org/wiki/Florida\">Florida</a> </td><td>80 kg</td></tr>]"
            ]
          },
          "metadata": {},
          "execution_count": 28
        }
      ]
    },
    {
      "cell_type": "code",
      "source": [
        "first_row =table_rows[0]\n",
        "first_row"
      ],
      "metadata": {
        "colab": {
          "base_uri": "https://localhost:8080/"
        },
        "id": "9HZqbVsYTvA2",
        "outputId": "1b55893a-1ea2-4252-8160-2f45cd1be434"
      },
      "execution_count": null,
      "outputs": [
        {
          "output_type": "execute_result",
          "data": {
            "text/plain": [
              "<tr><td id=\"flight\">Flight No</td><td>Launch site</td><td>Payload mass</td></tr>"
            ]
          },
          "metadata": {},
          "execution_count": 29
        }
      ]
    },
    {
      "cell_type": "code",
      "source": [
        "print(type(first_row))"
      ],
      "metadata": {
        "colab": {
          "base_uri": "https://localhost:8080/"
        },
        "id": "za69HsGGTxOT",
        "outputId": "a52a196f-ad07-451c-cca8-0c5df8877d69"
      },
      "execution_count": null,
      "outputs": [
        {
          "output_type": "stream",
          "name": "stdout",
          "text": [
            "<class 'bs4.element.Tag'>\n"
          ]
        }
      ]
    },
    {
      "cell_type": "code",
      "source": [
        "first_row.td"
      ],
      "metadata": {
        "colab": {
          "base_uri": "https://localhost:8080/"
        },
        "id": "5e3K7CFXTySu",
        "outputId": "7056904d-5a5b-4f07-c0dc-21163761c1a3"
      },
      "execution_count": null,
      "outputs": [
        {
          "output_type": "execute_result",
          "data": {
            "text/plain": [
              "<td id=\"flight\">Flight No</td>"
            ]
          },
          "metadata": {},
          "execution_count": 31
        }
      ]
    },
    {
      "cell_type": "code",
      "source": [
        "for i,row in enumerate(table_rows):\n",
        "    print(\"row\",i,\"is\",row)\n"
      ],
      "metadata": {
        "colab": {
          "base_uri": "https://localhost:8080/"
        },
        "id": "RY0WyyCQTzLl",
        "outputId": "77d83ff7-a62b-494f-a26c-a111bb4f52d1"
      },
      "execution_count": null,
      "outputs": [
        {
          "output_type": "stream",
          "name": "stdout",
          "text": [
            "row 0 is <tr><td id=\"flight\">Flight No</td><td>Launch site</td><td>Payload mass</td></tr>\n",
            "row 1 is <tr><td>1</td><td><a href=\"https://en.wikipedia.org/wiki/Florida\">Florida</a></td><td>300 kg</td></tr>\n",
            "row 2 is <tr><td>2</td><td><a href=\"https://en.wikipedia.org/wiki/Texas\">Texas</a></td><td>94 kg</td></tr>\n",
            "row 3 is <tr><td>3</td><td><a href=\"https://en.wikipedia.org/wiki/Florida\">Florida</a> </td><td>80 kg</td></tr>\n"
          ]
        }
      ]
    },
    {
      "cell_type": "code",
      "source": [
        "for i,row in enumerate(table_rows):\n",
        "    print(\"row\",i)\n",
        "    cells=row.find_all('td')\n",
        "    for j,cell in enumerate(cells):\n",
        "        print('colunm',j,\"cell\",cell)"
      ],
      "metadata": {
        "colab": {
          "base_uri": "https://localhost:8080/"
        },
        "id": "RRn3BcGFT05F",
        "outputId": "72e285ca-f944-42b1-9758-c87182d4e509"
      },
      "execution_count": null,
      "outputs": [
        {
          "output_type": "stream",
          "name": "stdout",
          "text": [
            "row 0\n",
            "colunm 0 cell <td id=\"flight\">Flight No</td>\n",
            "colunm 1 cell <td>Launch site</td>\n",
            "colunm 2 cell <td>Payload mass</td>\n",
            "row 1\n",
            "colunm 0 cell <td>1</td>\n",
            "colunm 1 cell <td><a href=\"https://en.wikipedia.org/wiki/Florida\">Florida</a></td>\n",
            "colunm 2 cell <td>300 kg</td>\n",
            "row 2\n",
            "colunm 0 cell <td>2</td>\n",
            "colunm 1 cell <td><a href=\"https://en.wikipedia.org/wiki/Texas\">Texas</a></td>\n",
            "colunm 2 cell <td>94 kg</td>\n",
            "row 3\n",
            "colunm 0 cell <td>3</td>\n",
            "colunm 1 cell <td><a href=\"https://en.wikipedia.org/wiki/Florida\">Florida</a> </td>\n",
            "colunm 2 cell <td>80 kg</td>\n"
          ]
        }
      ]
    },
    {
      "cell_type": "code",
      "source": [
        "list_input=table_bs .find_all(name=[\"tr\", \"td\"])\n",
        "list_input"
      ],
      "metadata": {
        "colab": {
          "base_uri": "https://localhost:8080/"
        },
        "id": "QILgXNlVT2v2",
        "outputId": "bf955ec3-6096-4bee-e21b-672311dff71b"
      },
      "execution_count": null,
      "outputs": [
        {
          "output_type": "execute_result",
          "data": {
            "text/plain": [
              "[<tr><td id=\"flight\">Flight No</td><td>Launch site</td><td>Payload mass</td></tr>,\n",
              " <td id=\"flight\">Flight No</td>,\n",
              " <td>Launch site</td>,\n",
              " <td>Payload mass</td>,\n",
              " <tr><td>1</td><td><a href=\"https://en.wikipedia.org/wiki/Florida\">Florida</a></td><td>300 kg</td></tr>,\n",
              " <td>1</td>,\n",
              " <td><a href=\"https://en.wikipedia.org/wiki/Florida\">Florida</a></td>,\n",
              " <td>300 kg</td>,\n",
              " <tr><td>2</td><td><a href=\"https://en.wikipedia.org/wiki/Texas\">Texas</a></td><td>94 kg</td></tr>,\n",
              " <td>2</td>,\n",
              " <td><a href=\"https://en.wikipedia.org/wiki/Texas\">Texas</a></td>,\n",
              " <td>94 kg</td>,\n",
              " <tr><td>3</td><td><a href=\"https://en.wikipedia.org/wiki/Florida\">Florida</a> </td><td>80 kg</td></tr>,\n",
              " <td>3</td>,\n",
              " <td><a href=\"https://en.wikipedia.org/wiki/Florida\">Florida</a> </td>,\n",
              " <td>80 kg</td>]"
            ]
          },
          "metadata": {},
          "execution_count": 34
        }
      ]
    },
    {
      "cell_type": "code",
      "source": [
        "table_bs.find_all(id=\"flight\")"
      ],
      "metadata": {
        "colab": {
          "base_uri": "https://localhost:8080/"
        },
        "id": "V-QSUd_gT5ht",
        "outputId": "eebdd40a-d4ca-4b22-e1f7-b1a9676e312b"
      },
      "execution_count": null,
      "outputs": [
        {
          "output_type": "execute_result",
          "data": {
            "text/plain": [
              "[<td id=\"flight\">Flight No</td>]"
            ]
          },
          "metadata": {},
          "execution_count": 35
        }
      ]
    },
    {
      "cell_type": "code",
      "source": [
        "list_input=table_bs.find_all(href=\"https://en.wikipedia.org/wiki/Florida\")\n",
        "list_input"
      ],
      "metadata": {
        "colab": {
          "base_uri": "https://localhost:8080/"
        },
        "id": "zRJ4DjdqUdQt",
        "outputId": "f8283cc1-2e36-4a51-9077-898b18b7daa1"
      },
      "execution_count": null,
      "outputs": [
        {
          "output_type": "execute_result",
          "data": {
            "text/plain": [
              "[<a href=\"https://en.wikipedia.org/wiki/Florida\">Florida</a>,\n",
              " <a href=\"https://en.wikipedia.org/wiki/Florida\">Florida</a>]"
            ]
          },
          "metadata": {},
          "execution_count": 36
        }
      ]
    },
    {
      "cell_type": "code",
      "source": [
        "table_bs.find_all(href=True)"
      ],
      "metadata": {
        "colab": {
          "base_uri": "https://localhost:8080/"
        },
        "id": "laSvI5mCUewP",
        "outputId": "15a9f3f2-77fe-4b4e-b4fe-decc5167ad8d"
      },
      "execution_count": null,
      "outputs": [
        {
          "output_type": "execute_result",
          "data": {
            "text/plain": [
              "[<a href=\"https://en.wikipedia.org/wiki/Florida\">Florida</a>,\n",
              " <a href=\"https://en.wikipedia.org/wiki/Texas\">Texas</a>,\n",
              " <a href=\"https://en.wikipedia.org/wiki/Florida\">Florida</a>]"
            ]
          },
          "metadata": {},
          "execution_count": 37
        }
      ]
    },
    {
      "cell_type": "code",
      "source": [
        "table_bs.find_all('a', href=False)\n"
      ],
      "metadata": {
        "colab": {
          "base_uri": "https://localhost:8080/"
        },
        "id": "bcdu2zUCUiq6",
        "outputId": "f0093455-048e-427b-ffed-7ac48d4f2d37"
      },
      "execution_count": null,
      "outputs": [
        {
          "output_type": "execute_result",
          "data": {
            "text/plain": [
              "[]"
            ]
          },
          "metadata": {},
          "execution_count": 38
        }
      ]
    },
    {
      "cell_type": "code",
      "source": [
        "soup.find_all(id=\"boldest\")\n"
      ],
      "metadata": {
        "colab": {
          "base_uri": "https://localhost:8080/"
        },
        "id": "W6RWQ6YoUqh2",
        "outputId": "78fa2a86-d98c-4e8d-e3bd-71fb999c2848"
      },
      "execution_count": null,
      "outputs": [
        {
          "output_type": "execute_result",
          "data": {
            "text/plain": [
              "[<b id=\"boldest\">Lebron James</b>]"
            ]
          },
          "metadata": {},
          "execution_count": 39
        }
      ]
    },
    {
      "cell_type": "code",
      "source": [
        "table_bs.find_all(string=\"Florida\")"
      ],
      "metadata": {
        "colab": {
          "base_uri": "https://localhost:8080/"
        },
        "id": "_OPca8EiUsqi",
        "outputId": "5dd75d63-beb4-4436-a672-38a799da9bad"
      },
      "execution_count": null,
      "outputs": [
        {
          "output_type": "execute_result",
          "data": {
            "text/plain": [
              "['Florida', 'Florida']"
            ]
          },
          "metadata": {},
          "execution_count": 40
        }
      ]
    },
    {
      "cell_type": "code",
      "source": [
        "%%html\n",
        "<h3>Rocket Launch </h3>\n",
        "\n",
        "<p>\n",
        "<table class='rocket'>\n",
        "  <tr>\n",
        "    <td>Flight No</td>\n",
        "    <td>Launch site</td>\n",
        "    <td>Payload mass</td>\n",
        "  </tr>\n",
        "  <tr>\n",
        "    <td>1</td>\n",
        "    <td>Florida</td>\n",
        "    <td>300 kg</td>\n",
        "  </tr>\n",
        "  <tr>\n",
        "    <td>2</td>\n",
        "    <td>Texas</td>\n",
        "    <td>94 kg</td>\n",
        "  </tr>\n",
        "  <tr>\n",
        "    <td>3</td>\n",
        "    <td>Florida </td>\n",
        "    <td>80 kg</td>\n",
        "  </tr>\n",
        "</table>\n",
        "</p>\n",
        "<p>\n",
        "\n",
        "<h3>Pizza Party  </h3>\n",
        "\n",
        "\n",
        "<table class='pizza'>\n",
        "  <tr>\n",
        "    <td>Pizza Place</td>\n",
        "    <td>Orders</td>\n",
        "    <td>Slices </td>\n",
        "   </tr>\n",
        "  <tr>\n",
        "    <td>Domino's Pizza</td>\n",
        "    <td>10</td>\n",
        "    <td>100</td>\n",
        "  </tr>\n",
        "  <tr>\n",
        "    <td>Little Caesars</td>\n",
        "    <td>12</td>\n",
        "    <td >144 </td>\n",
        "  </tr>\n",
        "  <tr>\n",
        "    <td>Papa John's </td>\n",
        "    <td>15 </td>\n",
        "    <td>165</td>\n",
        "  </tr>\n"
      ],
      "metadata": {
        "colab": {
          "base_uri": "https://localhost:8080/",
          "height": 273
        },
        "id": "IIIl1I9yUvHg",
        "outputId": "cf83b05c-caca-44d4-ff1e-77ecdf7f0c91"
      },
      "execution_count": null,
      "outputs": [
        {
          "output_type": "display_data",
          "data": {
            "text/plain": [
              "<IPython.core.display.HTML object>"
            ],
            "text/html": [
              "<h3>Rocket Launch </h3>\n",
              "\n",
              "<p>\n",
              "<table class='rocket'>\n",
              "  <tr>\n",
              "    <td>Flight No</td>\n",
              "    <td>Launch site</td> \n",
              "    <td>Payload mass</td>\n",
              "  </tr>\n",
              "  <tr>\n",
              "    <td>1</td>\n",
              "    <td>Florida</td>\n",
              "    <td>300 kg</td>\n",
              "  </tr>\n",
              "  <tr>\n",
              "    <td>2</td>\n",
              "    <td>Texas</td>\n",
              "    <td>94 kg</td>\n",
              "  </tr>\n",
              "  <tr>\n",
              "    <td>3</td>\n",
              "    <td>Florida </td>\n",
              "    <td>80 kg</td>\n",
              "  </tr>\n",
              "</table>\n",
              "</p>\n",
              "<p>\n",
              "\n",
              "<h3>Pizza Party  </h3>\n",
              "  \n",
              "    \n",
              "<table class='pizza'>\n",
              "  <tr>\n",
              "    <td>Pizza Place</td>\n",
              "    <td>Orders</td> \n",
              "    <td>Slices </td>\n",
              "   </tr>\n",
              "  <tr>\n",
              "    <td>Domino's Pizza</td>\n",
              "    <td>10</td>\n",
              "    <td>100</td>\n",
              "  </tr>\n",
              "  <tr>\n",
              "    <td>Little Caesars</td>\n",
              "    <td>12</td>\n",
              "    <td >144 </td>\n",
              "  </tr>\n",
              "  <tr>\n",
              "    <td>Papa John's </td>\n",
              "    <td>15 </td>\n",
              "    <td>165</td>\n",
              "  </tr>\n"
            ]
          },
          "metadata": {}
        }
      ]
    },
    {
      "cell_type": "code",
      "source": [
        "two_tables=\"<h3>Rocket Launch </h3><p><table class='rocket'><tr><td>Flight No</td><td>Launch site</td> <td>Payload mass</td></tr><tr><td>1</td><td>Florida</td><td>300 kg</td></tr><tr><td>2</td><td>Texas</td><td>94 kg</td></tr><tr><td>3</td><td>Florida </td><td>80 kg</td></tr></table></p><p><h3>Pizza Party  </h3><table class='pizza'><tr><td>Pizza Place</td><td>Orders</td> <td>Slices </td></tr><tr><td>Domino's Pizza</td><td>10</td><td>100</td></tr><tr><td>Little Caesars</td><td>12</td><td >144 </td></tr><tr><td>Papa John's </td><td>15 </td><td>165</td></tr>\""
      ],
      "metadata": {
        "id": "gTDMhjGnVBgV"
      },
      "execution_count": null,
      "outputs": []
    },
    {
      "cell_type": "code",
      "source": [
        "two_tables_bs= BeautifulSoup(two_tables, 'html.parser')"
      ],
      "metadata": {
        "id": "Zw17D5rMVEJC"
      },
      "execution_count": null,
      "outputs": []
    },
    {
      "cell_type": "code",
      "source": [
        "two_tables_bs.find(\"table\")"
      ],
      "metadata": {
        "colab": {
          "base_uri": "https://localhost:8080/"
        },
        "id": "FLnm5QipVFK7",
        "outputId": "336d19b7-6790-48c4-bddd-6fe5beba0a43"
      },
      "execution_count": null,
      "outputs": [
        {
          "output_type": "execute_result",
          "data": {
            "text/plain": [
              "<table class=\"rocket\"><tr><td>Flight No</td><td>Launch site</td> <td>Payload mass</td></tr><tr><td>1</td><td>Florida</td><td>300 kg</td></tr><tr><td>2</td><td>Texas</td><td>94 kg</td></tr><tr><td>3</td><td>Florida </td><td>80 kg</td></tr></table>"
            ]
          },
          "metadata": {},
          "execution_count": 44
        }
      ]
    },
    {
      "cell_type": "code",
      "source": [
        "two_tables_bs.find(\"table\",class_='pizza')"
      ],
      "metadata": {
        "colab": {
          "base_uri": "https://localhost:8080/"
        },
        "id": "H_1fHLQ2VGO1",
        "outputId": "55927b69-32ca-4c6d-85f8-a96d10e46fa2"
      },
      "execution_count": null,
      "outputs": [
        {
          "output_type": "execute_result",
          "data": {
            "text/plain": [
              "<table class=\"pizza\"><tr><td>Pizza Place</td><td>Orders</td> <td>Slices </td></tr><tr><td>Domino's Pizza</td><td>10</td><td>100</td></tr><tr><td>Little Caesars</td><td>12</td><td>144 </td></tr><tr><td>Papa John's </td><td>15 </td><td>165</td></tr></table>"
            ]
          },
          "metadata": {},
          "execution_count": 45
        }
      ]
    },
    {
      "cell_type": "code",
      "source": [
        "url = \"https://web.archive.org/web/20230224123642/https://www.ibm.com/us-en/\"\n",
        "\n",
        "try:\n",
        "    data = requests.get(url, timeout=10).text\n",
        "except requests.exceptions.Timeout:\n",
        "    print(f\"Timeout occurred while trying to access {url}. Please check your internet connection and try again.\")\n",
        "except requests.exceptions.RequestException as e:\n",
        "    print(f\"An error occurred: {e}\")\n",
        "else:\n",
        "    soup = BeautifulSoup(data, \"html.parser\")\n"
      ],
      "metadata": {
        "colab": {
          "base_uri": "https://localhost:8080/"
        },
        "id": "4CKA6heDVJOl",
        "outputId": "d809262a-92a7-48f0-adc4-2217a67ca8fb"
      },
      "execution_count": null,
      "outputs": [
        {
          "output_type": "stream",
          "name": "stdout",
          "text": [
            "Timeout occurred while trying to access https://web.archive.org/web/20230224123642/https://www.ibm.com/us-en/. Please check your internet connection and try again.\n"
          ]
        }
      ]
    },
    {
      "cell_type": "code",
      "source": [
        "for link in soup.find_all('a',href=True):\n",
        "\n",
        "    print(link.get('href'))\n"
      ],
      "metadata": {
        "id": "_S93TdO3VfgJ"
      },
      "execution_count": null,
      "outputs": []
    },
    {
      "cell_type": "code",
      "source": [
        "for link in soup.find_all('img'):\n",
        "    print(link)\n",
        "    print(link.get('src'))"
      ],
      "metadata": {
        "id": "8jih3pbjVlvG"
      },
      "execution_count": null,
      "outputs": []
    },
    {
      "cell_type": "code",
      "source": [
        "url = \"https://cf-courses-data.s3.us.cloud-object-storage.appdomain.cloud/IBM-DA0321EN-SkillsNetwork/labs/datasets/HTMLColorCodes.html\"\n",
        "data  = requests.get(url).text\n",
        "\n",
        "soup = BeautifulSoup(data, \"html.parser\")\n",
        "\n",
        "table = soup.find('table')\n",
        "\n",
        "if table:\n",
        "    for row in table.find_all('tr'):\n",
        "        cols = row.find_all('td')\n",
        "\n",
        "        if len(cols) >= 4:\n",
        "            color_name = cols[2].string\n",
        "            color_code = cols[3].string\n",
        "            print(\"{}--->{}\".format(color_name,color_code))\n",
        "else:\n",
        "    print(\"No table found in the HTML data.\")"
      ],
      "metadata": {
        "colab": {
          "base_uri": "https://localhost:8080/"
        },
        "id": "NkjkBkgXVpJc",
        "outputId": "d72cff43-d6f2-497f-de93-58a82e549ea7"
      },
      "execution_count": null,
      "outputs": [
        {
          "output_type": "stream",
          "name": "stdout",
          "text": [
            "Color Name--->None\n",
            "lightsalmon--->#FFA07A\n",
            "salmon--->#FA8072\n",
            "darksalmon--->#E9967A\n",
            "lightcoral--->#F08080\n",
            "coral--->#FF7F50\n",
            "tomato--->#FF6347\n",
            "orangered--->#FF4500\n",
            "gold--->#FFD700\n",
            "orange--->#FFA500\n",
            "darkorange--->#FF8C00\n",
            "lightyellow--->#FFFFE0\n",
            "lemonchiffon--->#FFFACD\n",
            "papayawhip--->#FFEFD5\n",
            "moccasin--->#FFE4B5\n",
            "peachpuff--->#FFDAB9\n",
            "palegoldenrod--->#EEE8AA\n",
            "khaki--->#F0E68C\n",
            "darkkhaki--->#BDB76B\n",
            "yellow--->#FFFF00\n",
            "lawngreen--->#7CFC00\n",
            "chartreuse--->#7FFF00\n",
            "limegreen--->#32CD32\n",
            "lime--->#00FF00\n",
            "forestgreen--->#228B22\n",
            "green--->#008000\n",
            "powderblue--->#B0E0E6\n",
            "lightblue--->#ADD8E6\n",
            "lightskyblue--->#87CEFA\n",
            "skyblue--->#87CEEB\n",
            "deepskyblue--->#00BFFF\n",
            "lightsteelblue--->#B0C4DE\n",
            "dodgerblue--->#1E90FF\n"
          ]
        }
      ]
    },
    {
      "cell_type": "code",
      "source": [
        "import pandas as pd\n",
        "url1= \"https://en.wikipedia.org/wiki/World_population\""
      ],
      "metadata": {
        "id": "p4rDeUP6XLJS"
      },
      "execution_count": null,
      "outputs": []
    },
    {
      "cell_type": "code",
      "source": [
        "data  = requests.get(url1).text\n",
        "tables = soup.find_all('table')\n",
        "len(tables)"
      ],
      "metadata": {
        "colab": {
          "base_uri": "https://localhost:8080/"
        },
        "id": "EHfSNykHXgyR",
        "outputId": "269bcd42-20ba-411c-cead-e231b44fc00b"
      },
      "execution_count": null,
      "outputs": [
        {
          "output_type": "execute_result",
          "data": {
            "text/plain": [
              "1"
            ]
          },
          "metadata": {},
          "execution_count": 54
        }
      ]
    },
    {
      "cell_type": "code",
      "source": [
        "table_index = -1\n",
        "for index, table in enumerate(tables):\n",
        "    if \"10 most densely populated countries\" in str(table):\n",
        "        table_index = index\n",
        "        break\n",
        "print(table_index)"
      ],
      "metadata": {
        "colab": {
          "base_uri": "https://localhost:8080/"
        },
        "id": "A4O2PSf9XuM8",
        "outputId": "8b0e6d36-425d-4ea9-fc9b-49680f321d32"
      },
      "execution_count": null,
      "outputs": [
        {
          "output_type": "stream",
          "name": "stdout",
          "text": [
            "-1\n"
          ]
        }
      ]
    },
    {
      "cell_type": "code",
      "source": [
        "print(tables[table_index].prettify())"
      ],
      "metadata": {
        "colab": {
          "base_uri": "https://localhost:8080/"
        },
        "id": "jbMTQvCOYPQI",
        "outputId": "ac20b132-a300-4e9a-b7a9-b29c5686dd00"
      },
      "execution_count": null,
      "outputs": [
        {
          "output_type": "stream",
          "name": "stdout",
          "text": [
            "<table border=\"1\" class=\"main-table\">\n",
            " <tr>\n",
            "  <td>\n",
            "   Number\n",
            "  </td>\n",
            "  <td>\n",
            "   Color\n",
            "  </td>\n",
            "  <td>\n",
            "   Color Name\n",
            "  </td>\n",
            "  <td>\n",
            "   Hex Code\n",
            "   <br/>\n",
            "   #RRGGBB\n",
            "  </td>\n",
            "  <td>\n",
            "   Decimal Code\n",
            "   <br/>\n",
            "   (R,G,B)\n",
            "  </td>\n",
            " </tr>\n",
            " <tr>\n",
            "  <td>\n",
            "   1\n",
            "  </td>\n",
            "  <td style=\"background:lightsalmon;\">\n",
            "  </td>\n",
            "  <td>\n",
            "   lightsalmon\n",
            "  </td>\n",
            "  <td>\n",
            "   #FFA07A\n",
            "  </td>\n",
            "  <td>\n",
            "   rgb(255,160,122)\n",
            "  </td>\n",
            " </tr>\n",
            " <tr>\n",
            "  <td>\n",
            "   2\n",
            "  </td>\n",
            "  <td style=\"background:salmon;\">\n",
            "  </td>\n",
            "  <td>\n",
            "   salmon\n",
            "  </td>\n",
            "  <td>\n",
            "   #FA8072\n",
            "  </td>\n",
            "  <td>\n",
            "   rgb(250,128,114)\n",
            "  </td>\n",
            " </tr>\n",
            " <tr>\n",
            "  <td>\n",
            "   3\n",
            "  </td>\n",
            "  <td style=\"background:darksalmon;\">\n",
            "  </td>\n",
            "  <td>\n",
            "   darksalmon\n",
            "  </td>\n",
            "  <td>\n",
            "   #E9967A\n",
            "  </td>\n",
            "  <td>\n",
            "   rgb(233,150,122)\n",
            "  </td>\n",
            " </tr>\n",
            " <tr>\n",
            "  <td>\n",
            "   4\n",
            "  </td>\n",
            "  <td style=\"background:lightcoral;\">\n",
            "  </td>\n",
            "  <td>\n",
            "   lightcoral\n",
            "  </td>\n",
            "  <td>\n",
            "   #F08080\n",
            "  </td>\n",
            "  <td>\n",
            "   rgb(240,128,128)\n",
            "  </td>\n",
            " </tr>\n",
            " <tr>\n",
            "  <td>\n",
            "   5\n",
            "  </td>\n",
            "  <td style=\"background:coral;\">\n",
            "  </td>\n",
            "  <td>\n",
            "   coral\n",
            "  </td>\n",
            "  <td>\n",
            "   #FF7F50\n",
            "  </td>\n",
            "  <td>\n",
            "   rgb(255,127,80)\n",
            "  </td>\n",
            " </tr>\n",
            " <tr>\n",
            "  <td>\n",
            "   6\n",
            "  </td>\n",
            "  <td style=\"background:tomato;\">\n",
            "  </td>\n",
            "  <td>\n",
            "   tomato\n",
            "  </td>\n",
            "  <td>\n",
            "   #FF6347\n",
            "  </td>\n",
            "  <td>\n",
            "   rgb(255,99,71)\n",
            "  </td>\n",
            " </tr>\n",
            " <tr>\n",
            "  <td>\n",
            "   7\n",
            "  </td>\n",
            "  <td style=\"background:orangered;\">\n",
            "  </td>\n",
            "  <td>\n",
            "   orangered\n",
            "  </td>\n",
            "  <td>\n",
            "   #FF4500\n",
            "  </td>\n",
            "  <td>\n",
            "   rgb(255,69,0)\n",
            "  </td>\n",
            " </tr>\n",
            " <tr>\n",
            "  <td>\n",
            "   8\n",
            "  </td>\n",
            "  <td style=\"background:gold;\">\n",
            "  </td>\n",
            "  <td>\n",
            "   gold\n",
            "  </td>\n",
            "  <td>\n",
            "   #FFD700\n",
            "  </td>\n",
            "  <td>\n",
            "   rgb(255,215,0)\n",
            "  </td>\n",
            " </tr>\n",
            " <tr>\n",
            "  <td>\n",
            "   9\n",
            "  </td>\n",
            "  <td style=\"background:orange;\">\n",
            "  </td>\n",
            "  <td>\n",
            "   orange\n",
            "  </td>\n",
            "  <td>\n",
            "   #FFA500\n",
            "  </td>\n",
            "  <td>\n",
            "   rgb(255,165,0)\n",
            "  </td>\n",
            " </tr>\n",
            " <tr>\n",
            "  <td>\n",
            "   10\n",
            "  </td>\n",
            "  <td style=\"background:darkorange;\">\n",
            "  </td>\n",
            "  <td>\n",
            "   darkorange\n",
            "  </td>\n",
            "  <td>\n",
            "   #FF8C00\n",
            "  </td>\n",
            "  <td>\n",
            "   rgb(255,140,0)\n",
            "  </td>\n",
            " </tr>\n",
            " <tr>\n",
            "  <td>\n",
            "   11\n",
            "  </td>\n",
            "  <td style=\"background:lightyellow;\">\n",
            "  </td>\n",
            "  <td>\n",
            "   lightyellow\n",
            "  </td>\n",
            "  <td>\n",
            "   #FFFFE0\n",
            "  </td>\n",
            "  <td>\n",
            "   rgb(255,255,224)\n",
            "  </td>\n",
            " </tr>\n",
            " <tr>\n",
            "  <td>\n",
            "   12\n",
            "  </td>\n",
            "  <td style=\"background:lemonchiffon;\">\n",
            "  </td>\n",
            "  <td>\n",
            "   lemonchiffon\n",
            "  </td>\n",
            "  <td>\n",
            "   #FFFACD\n",
            "  </td>\n",
            "  <td>\n",
            "   rgb(255,250,205)\n",
            "  </td>\n",
            " </tr>\n",
            " <tr>\n",
            "  <td>\n",
            "   13\n",
            "  </td>\n",
            "  <td style=\"background:papayawhip;\">\n",
            "  </td>\n",
            "  <td>\n",
            "   papayawhip\n",
            "  </td>\n",
            "  <td>\n",
            "   #FFEFD5\n",
            "  </td>\n",
            "  <td>\n",
            "   rgb(255,239,213)\n",
            "  </td>\n",
            " </tr>\n",
            " <tr>\n",
            "  <td>\n",
            "   14\n",
            "  </td>\n",
            "  <td style=\"background:moccasin;\">\n",
            "  </td>\n",
            "  <td>\n",
            "   moccasin\n",
            "  </td>\n",
            "  <td>\n",
            "   #FFE4B5\n",
            "  </td>\n",
            "  <td>\n",
            "   rgb(255,228,181)\n",
            "  </td>\n",
            " </tr>\n",
            " <tr>\n",
            "  <td>\n",
            "   15\n",
            "  </td>\n",
            "  <td style=\"background:peachpuff;\">\n",
            "  </td>\n",
            "  <td>\n",
            "   peachpuff\n",
            "  </td>\n",
            "  <td>\n",
            "   #FFDAB9\n",
            "  </td>\n",
            "  <td>\n",
            "   rgb(255,218,185)\n",
            "  </td>\n",
            " </tr>\n",
            " <tr>\n",
            "  <td>\n",
            "   16\n",
            "  </td>\n",
            "  <td style=\"background:palegoldenrod;\">\n",
            "  </td>\n",
            "  <td>\n",
            "   palegoldenrod\n",
            "  </td>\n",
            "  <td>\n",
            "   #EEE8AA\n",
            "  </td>\n",
            "  <td>\n",
            "   rgb(238,232,170)\n",
            "  </td>\n",
            " </tr>\n",
            " <tr>\n",
            "  <td>\n",
            "   17\n",
            "  </td>\n",
            "  <td style=\"background:khaki;\">\n",
            "  </td>\n",
            "  <td>\n",
            "   khaki\n",
            "  </td>\n",
            "  <td>\n",
            "   #F0E68C\n",
            "  </td>\n",
            "  <td>\n",
            "   rgb(240,230,140)\n",
            "  </td>\n",
            " </tr>\n",
            " <tr>\n",
            "  <td>\n",
            "   18\n",
            "  </td>\n",
            "  <td style=\"background:darkkhaki;\">\n",
            "  </td>\n",
            "  <td>\n",
            "   darkkhaki\n",
            "  </td>\n",
            "  <td>\n",
            "   #BDB76B\n",
            "  </td>\n",
            "  <td>\n",
            "   rgb(189,183,107)\n",
            "  </td>\n",
            " </tr>\n",
            " <tr>\n",
            "  <td>\n",
            "   19\n",
            "  </td>\n",
            "  <td style=\"background:yellow;\">\n",
            "  </td>\n",
            "  <td>\n",
            "   yellow\n",
            "  </td>\n",
            "  <td>\n",
            "   #FFFF00\n",
            "  </td>\n",
            "  <td>\n",
            "   rgb(255,255,0)\n",
            "  </td>\n",
            " </tr>\n",
            " <tr>\n",
            "  <td>\n",
            "   20\n",
            "  </td>\n",
            "  <td style=\"background:lawngreen;\">\n",
            "  </td>\n",
            "  <td>\n",
            "   lawngreen\n",
            "  </td>\n",
            "  <td>\n",
            "   #7CFC00\n",
            "  </td>\n",
            "  <td>\n",
            "   rgb(124,252,0)\n",
            "  </td>\n",
            " </tr>\n",
            " <tr>\n",
            "  <td>\n",
            "   21\n",
            "  </td>\n",
            "  <td style=\"background:chartreuse;\">\n",
            "  </td>\n",
            "  <td>\n",
            "   chartreuse\n",
            "  </td>\n",
            "  <td>\n",
            "   #7FFF00\n",
            "  </td>\n",
            "  <td>\n",
            "   rgb(127,255,0)\n",
            "  </td>\n",
            " </tr>\n",
            " <tr>\n",
            "  <td>\n",
            "   22\n",
            "  </td>\n",
            "  <td style=\"background:limegreen;\">\n",
            "  </td>\n",
            "  <td>\n",
            "   limegreen\n",
            "  </td>\n",
            "  <td>\n",
            "   #32CD32\n",
            "  </td>\n",
            "  <td>\n",
            "   rgb(50,205,50)\n",
            "  </td>\n",
            " </tr>\n",
            " <tr>\n",
            "  <td>\n",
            "   23\n",
            "  </td>\n",
            "  <td style=\"background:lime;\">\n",
            "  </td>\n",
            "  <td>\n",
            "   lime\n",
            "  </td>\n",
            "  <td>\n",
            "   #00FF00\n",
            "  </td>\n",
            "  <td>\n",
            "   rgb(0.255.0)\n",
            "  </td>\n",
            " </tr>\n",
            " <tr>\n",
            "  <td>\n",
            "   24\n",
            "  </td>\n",
            "  <td style=\"background:forestgreen;\">\n",
            "  </td>\n",
            "  <td>\n",
            "   forestgreen\n",
            "  </td>\n",
            "  <td>\n",
            "   #228B22\n",
            "  </td>\n",
            "  <td>\n",
            "   rgb(34,139,34)\n",
            "  </td>\n",
            " </tr>\n",
            " <tr>\n",
            "  <td>\n",
            "   25\n",
            "  </td>\n",
            "  <td style=\"background:green;\">\n",
            "  </td>\n",
            "  <td>\n",
            "   green\n",
            "  </td>\n",
            "  <td>\n",
            "   #008000\n",
            "  </td>\n",
            "  <td>\n",
            "   rgb(0,128,0)\n",
            "  </td>\n",
            " </tr>\n",
            " <tr>\n",
            "  <td>\n",
            "   26\n",
            "  </td>\n",
            "  <td style=\"background:powderblue;\">\n",
            "  </td>\n",
            "  <td>\n",
            "   powderblue\n",
            "  </td>\n",
            "  <td>\n",
            "   #B0E0E6\n",
            "  </td>\n",
            "  <td>\n",
            "   rgb(176,224,230)\n",
            "  </td>\n",
            " </tr>\n",
            " <tr>\n",
            "  <td>\n",
            "   27\n",
            "  </td>\n",
            "  <td style=\"background:lightblue;\">\n",
            "  </td>\n",
            "  <td>\n",
            "   lightblue\n",
            "  </td>\n",
            "  <td>\n",
            "   #ADD8E6\n",
            "  </td>\n",
            "  <td>\n",
            "   rgb(173,216,230)\n",
            "  </td>\n",
            " </tr>\n",
            " <tr>\n",
            "  <td>\n",
            "   28\n",
            "  </td>\n",
            "  <td style=\"background:lightskyblue;\">\n",
            "  </td>\n",
            "  <td>\n",
            "   lightskyblue\n",
            "  </td>\n",
            "  <td>\n",
            "   #87CEFA\n",
            "  </td>\n",
            "  <td>\n",
            "   rgb(135,206,250)\n",
            "  </td>\n",
            " </tr>\n",
            " <tr>\n",
            "  <td>\n",
            "   29\n",
            "  </td>\n",
            "  <td style=\"background:skyblue;\">\n",
            "  </td>\n",
            "  <td>\n",
            "   skyblue\n",
            "  </td>\n",
            "  <td>\n",
            "   #87CEEB\n",
            "  </td>\n",
            "  <td>\n",
            "   rgb(135,206,235)\n",
            "  </td>\n",
            " </tr>\n",
            " <tr>\n",
            "  <td>\n",
            "   30\n",
            "  </td>\n",
            "  <td style=\"background:deepskyblue;\">\n",
            "  </td>\n",
            "  <td>\n",
            "   deepskyblue\n",
            "  </td>\n",
            "  <td>\n",
            "   #00BFFF\n",
            "  </td>\n",
            "  <td>\n",
            "   rgb(0,191,255)\n",
            "  </td>\n",
            " </tr>\n",
            " <tr>\n",
            "  <td>\n",
            "   31\n",
            "  </td>\n",
            "  <td style=\"background:lightsteelblue;\">\n",
            "  </td>\n",
            "  <td>\n",
            "   lightsteelblue\n",
            "  </td>\n",
            "  <td>\n",
            "   #B0C4DE\n",
            "  </td>\n",
            "  <td>\n",
            "   rgb(176,196,222)\n",
            "  </td>\n",
            " </tr>\n",
            " <tr>\n",
            "  <td>\n",
            "   32\n",
            "  </td>\n",
            "  <td style=\"background:dodgerblue;\">\n",
            "  </td>\n",
            "  <td>\n",
            "   dodgerblue\n",
            "  </td>\n",
            "  <td>\n",
            "   #1E90FF\n",
            "  </td>\n",
            "  <td>\n",
            "   rgb(30,144,255)\n",
            "  </td>\n",
            " </tr>\n",
            "</table>\n",
            "\n"
          ]
        }
      ]
    },
    {
      "cell_type": "code",
      "source": [
        "import pandas as pd\n",
        "import requests\n",
        "from bs4 import BeautifulSoup\n",
        "\n",
        "url1 = \"https://en.wikipedia.org/wiki/World_population\"\n",
        "data  = requests.get(url1).text\n",
        "soup = BeautifulSoup(data, \"html.parser\") # Create a BeautifulSoup object\n",
        "\n",
        "tables = soup.find_all('table')\n",
        "len(tables)\n",
        "\n",
        "table_index = -1\n",
        "for index, table in enumerate(tables):\n",
        "    if (\"10 most densely populated countries\" in str(table)):\n",
        "        table_index = index\n",
        "        break\n",
        "print(table_index)\n",
        "\n",
        "# Check if table_index is still -1, indicating the table wasn't found\n",
        "if table_index == -1:\n",
        "    print(\"Table not found!\") # Print an error message\n",
        "else:\n",
        "    print(tables[table_index].prettify())\n",
        "    population_data = pd.DataFrame(columns=[\"Rank\", \"Country\", \"Population\", \"Area\", \"Density\"])\n",
        "    # Access the table body correctly, handling potential missing tbody\n",
        "    table_body = tables[table_index].find(\"tbody\")\n",
        "    if table_body:\n",
        "        for row in table_body.find_all(\"tr\"):\n",
        "            col = row.find_all(\"td\")\n",
        "            if (col != []):\n",
        "                rank = col[0].text\n",
        "                country = col[1].text\n",
        "                population = col[2].text.strip()\n",
        "                area = col[3].text.strip()\n",
        "                density = col[4].text.strip()\n",
        "                population_data = pd.concat([population_data, pd.DataFrame({\"Rank\":[rank], \"Country\":[country], \"Population\":[population], \"Area\":[area], \"Density\":[density]})], ignore_index=True)\n",
        "    else:\n",
        "        print(\"Table body not found!\")\n",
        "\n",
        "    print(population_data)"
      ],
      "metadata": {
        "colab": {
          "base_uri": "https://localhost:8080/"
        },
        "id": "LjVPFIrhYa9O",
        "outputId": "c627a5ff-3813-4148-ae56-dc86a939b9e0"
      },
      "execution_count": null,
      "outputs": [
        {
          "output_type": "stream",
          "name": "stdout",
          "text": [
            "6\n",
            "<table class=\"wikitable sortable\" style=\"text-align:right\">\n",
            " <caption>\n",
            "  10 most densely populated countries\n",
            "  <small>\n",
            "   (with population above 5 million)\n",
            "  </small>\n",
            "  <sup class=\"reference\" id=\"cite_ref-:10_103-0\">\n",
            "   <a href=\"#cite_note-:10-103\">\n",
            "    <span class=\"cite-bracket\">\n",
            "     [\n",
            "    </span>\n",
            "    98\n",
            "    <span class=\"cite-bracket\">\n",
            "     ]\n",
            "    </span>\n",
            "   </a>\n",
            "  </sup>\n",
            " </caption>\n",
            " <tbody>\n",
            "  <tr>\n",
            "   <th scope=\"col\">\n",
            "    Rank\n",
            "   </th>\n",
            "   <th scope=\"col\">\n",
            "    Country\n",
            "   </th>\n",
            "   <th scope=\"col\">\n",
            "    Population\n",
            "   </th>\n",
            "   <th scope=\"col\">\n",
            "    Area\n",
            "    <br/>\n",
            "    <small>\n",
            "     (km\n",
            "     <sup>\n",
            "      2\n",
            "     </sup>\n",
            "     )\n",
            "    </small>\n",
            "   </th>\n",
            "   <th scope=\"col\">\n",
            "    Density\n",
            "    <br/>\n",
            "    <small>\n",
            "     (pop/km\n",
            "     <sup>\n",
            "      2\n",
            "     </sup>\n",
            "     )\n",
            "    </small>\n",
            "   </th>\n",
            "  </tr>\n",
            "  <tr>\n",
            "   <td>\n",
            "    1\n",
            "   </td>\n",
            "   <td align=\"left\">\n",
            "    <span class=\"flagicon\">\n",
            "     <span class=\"mw-image-border\" typeof=\"mw:File\">\n",
            "      <span>\n",
            "       <img alt=\"\" class=\"mw-file-element\" data-file-height=\"600\" data-file-width=\"900\" decoding=\"async\" height=\"15\" src=\"//upload.wikimedia.org/wikipedia/commons/thumb/4/48/Flag_of_Singapore.svg/23px-Flag_of_Singapore.svg.png\" srcset=\"//upload.wikimedia.org/wikipedia/commons/thumb/4/48/Flag_of_Singapore.svg/35px-Flag_of_Singapore.svg.png 1.5x, //upload.wikimedia.org/wikipedia/commons/thumb/4/48/Flag_of_Singapore.svg/45px-Flag_of_Singapore.svg.png 2x\" width=\"23\"/>\n",
            "      </span>\n",
            "     </span>\n",
            "    </span>\n",
            "    <a href=\"/wiki/Singapore\" title=\"Singapore\">\n",
            "     Singapore\n",
            "    </a>\n",
            "   </td>\n",
            "   <td>\n",
            "    5,921,231\n",
            "   </td>\n",
            "   <td>\n",
            "    719\n",
            "   </td>\n",
            "   <td>\n",
            "    8,235\n",
            "   </td>\n",
            "  </tr>\n",
            "  <tr>\n",
            "   <td>\n",
            "    2\n",
            "   </td>\n",
            "   <td align=\"left\">\n",
            "    <span class=\"flagicon\">\n",
            "     <span class=\"mw-image-border\" typeof=\"mw:File\">\n",
            "      <span>\n",
            "       <img alt=\"\" class=\"mw-file-element\" data-file-height=\"307\" data-file-width=\"512\" decoding=\"async\" height=\"14\" src=\"//upload.wikimedia.org/wikipedia/commons/thumb/f/f9/Flag_of_Bangladesh.svg/23px-Flag_of_Bangladesh.svg.png\" srcset=\"//upload.wikimedia.org/wikipedia/commons/thumb/f/f9/Flag_of_Bangladesh.svg/35px-Flag_of_Bangladesh.svg.png 1.5x, //upload.wikimedia.org/wikipedia/commons/thumb/f/f9/Flag_of_Bangladesh.svg/46px-Flag_of_Bangladesh.svg.png 2x\" width=\"23\"/>\n",
            "      </span>\n",
            "     </span>\n",
            "    </span>\n",
            "    <a href=\"/wiki/Bangladesh\" title=\"Bangladesh\">\n",
            "     Bangladesh\n",
            "    </a>\n",
            "   </td>\n",
            "   <td>\n",
            "    165,650,475\n",
            "   </td>\n",
            "   <td>\n",
            "    148,460\n",
            "   </td>\n",
            "   <td>\n",
            "    1,116\n",
            "   </td>\n",
            "  </tr>\n",
            "  <tr>\n",
            "   <td>\n",
            "    3\n",
            "   </td>\n",
            "   <td align=\"left\">\n",
            "    <p>\n",
            "     <span class=\"flagicon\">\n",
            "      <span class=\"mw-image-border\" typeof=\"mw:File\">\n",
            "       <span>\n",
            "        <img alt=\"\" class=\"mw-file-element\" data-file-height=\"600\" data-file-width=\"1200\" decoding=\"async\" height=\"12\" src=\"//upload.wikimedia.org/wikipedia/commons/thumb/0/00/Flag_of_Palestine.svg/23px-Flag_of_Palestine.svg.png\" srcset=\"//upload.wikimedia.org/wikipedia/commons/thumb/0/00/Flag_of_Palestine.svg/35px-Flag_of_Palestine.svg.png 1.5x, //upload.wikimedia.org/wikipedia/commons/thumb/0/00/Flag_of_Palestine.svg/46px-Flag_of_Palestine.svg.png 2x\" width=\"23\"/>\n",
            "       </span>\n",
            "      </span>\n",
            "     </span>\n",
            "     <a href=\"/wiki/Palestine\" title=\"Palestine\">\n",
            "      Palestine\n",
            "     </a>\n",
            "     <sup class=\"reference\" id=\"cite_ref-104\">\n",
            "      <a href=\"#cite_note-104\">\n",
            "       <span class=\"cite-bracket\">\n",
            "        [\n",
            "       </span>\n",
            "       note 3\n",
            "       <span class=\"cite-bracket\">\n",
            "        ]\n",
            "       </span>\n",
            "      </a>\n",
            "     </sup>\n",
            "     <sup class=\"reference\" id=\"cite_ref-105\">\n",
            "      <a href=\"#cite_note-105\">\n",
            "       <span class=\"cite-bracket\">\n",
            "        [\n",
            "       </span>\n",
            "       99\n",
            "       <span class=\"cite-bracket\">\n",
            "        ]\n",
            "       </span>\n",
            "      </a>\n",
            "     </sup>\n",
            "    </p>\n",
            "   </td>\n",
            "   <td>\n",
            "    5,223,000\n",
            "   </td>\n",
            "   <td>\n",
            "    6,025\n",
            "   </td>\n",
            "   <td>\n",
            "    867\n",
            "   </td>\n",
            "  </tr>\n",
            "  <tr>\n",
            "   <td>\n",
            "    4\n",
            "   </td>\n",
            "   <td align=\"left\">\n",
            "    <span class=\"flagicon\">\n",
            "     <span class=\"mw-image-border\" typeof=\"mw:File\">\n",
            "      <span>\n",
            "       <img alt=\"\" class=\"mw-file-element\" data-file-height=\"600\" data-file-width=\"900\" decoding=\"async\" height=\"15\" src=\"//upload.wikimedia.org/wikipedia/commons/thumb/7/72/Flag_of_the_Republic_of_China.svg/23px-Flag_of_the_Republic_of_China.svg.png\" srcset=\"//upload.wikimedia.org/wikipedia/commons/thumb/7/72/Flag_of_the_Republic_of_China.svg/35px-Flag_of_the_Republic_of_China.svg.png 1.5x, //upload.wikimedia.org/wikipedia/commons/thumb/7/72/Flag_of_the_Republic_of_China.svg/45px-Flag_of_the_Republic_of_China.svg.png 2x\" width=\"23\"/>\n",
            "      </span>\n",
            "     </span>\n",
            "    </span>\n",
            "    <a href=\"/wiki/Taiwan\" title=\"Taiwan\">\n",
            "     Taiwan\n",
            "    </a>\n",
            "    <sup class=\"reference\" id=\"cite_ref-106\">\n",
            "     <a href=\"#cite_note-106\">\n",
            "      <span class=\"cite-bracket\">\n",
            "       [\n",
            "      </span>\n",
            "      note 4\n",
            "      <span class=\"cite-bracket\">\n",
            "       ]\n",
            "      </span>\n",
            "     </a>\n",
            "    </sup>\n",
            "   </td>\n",
            "   <td>\n",
            "    23,580,712\n",
            "   </td>\n",
            "   <td>\n",
            "    35,980\n",
            "   </td>\n",
            "   <td>\n",
            "    655\n",
            "   </td>\n",
            "  </tr>\n",
            "  <tr>\n",
            "   <td>\n",
            "    5\n",
            "   </td>\n",
            "   <td align=\"left\">\n",
            "    <span class=\"flagicon\">\n",
            "     <span class=\"mw-image-border\" typeof=\"mw:File\">\n",
            "      <span>\n",
            "       <img alt=\"\" class=\"mw-file-element\" data-file-height=\"600\" data-file-width=\"900\" decoding=\"async\" height=\"15\" src=\"//upload.wikimedia.org/wikipedia/commons/thumb/0/09/Flag_of_South_Korea.svg/23px-Flag_of_South_Korea.svg.png\" srcset=\"//upload.wikimedia.org/wikipedia/commons/thumb/0/09/Flag_of_South_Korea.svg/35px-Flag_of_South_Korea.svg.png 1.5x, //upload.wikimedia.org/wikipedia/commons/thumb/0/09/Flag_of_South_Korea.svg/45px-Flag_of_South_Korea.svg.png 2x\" width=\"23\"/>\n",
            "      </span>\n",
            "     </span>\n",
            "    </span>\n",
            "    <a href=\"/wiki/South_Korea\" title=\"South Korea\">\n",
            "     South Korea\n",
            "    </a>\n",
            "   </td>\n",
            "   <td>\n",
            "    51,844,834\n",
            "   </td>\n",
            "   <td>\n",
            "    99,720\n",
            "   </td>\n",
            "   <td>\n",
            "    520\n",
            "   </td>\n",
            "  </tr>\n",
            "  <tr>\n",
            "   <td>\n",
            "    6\n",
            "   </td>\n",
            "   <td align=\"left\">\n",
            "    <span class=\"flagicon\">\n",
            "     <span class=\"mw-image-border\" typeof=\"mw:File\">\n",
            "      <span>\n",
            "       <img alt=\"\" class=\"mw-file-element\" data-file-height=\"1920\" data-file-width=\"2880\" decoding=\"async\" height=\"15\" src=\"//upload.wikimedia.org/wikipedia/commons/thumb/5/59/Flag_of_Lebanon.svg/23px-Flag_of_Lebanon.svg.png\" srcset=\"//upload.wikimedia.org/wikipedia/commons/thumb/5/59/Flag_of_Lebanon.svg/35px-Flag_of_Lebanon.svg.png 1.5x, //upload.wikimedia.org/wikipedia/commons/thumb/5/59/Flag_of_Lebanon.svg/45px-Flag_of_Lebanon.svg.png 2x\" width=\"23\"/>\n",
            "      </span>\n",
            "     </span>\n",
            "    </span>\n",
            "    <a href=\"/wiki/Lebanon\" title=\"Lebanon\">\n",
            "     Lebanon\n",
            "    </a>\n",
            "   </td>\n",
            "   <td>\n",
            "    5,296,814\n",
            "   </td>\n",
            "   <td>\n",
            "    10,400\n",
            "   </td>\n",
            "   <td>\n",
            "    509\n",
            "   </td>\n",
            "  </tr>\n",
            "  <tr>\n",
            "   <td>\n",
            "    7\n",
            "   </td>\n",
            "   <td align=\"left\">\n",
            "    <span class=\"flagicon\">\n",
            "     <span class=\"mw-image-border\" typeof=\"mw:File\">\n",
            "      <span>\n",
            "       <img alt=\"\" class=\"mw-file-element\" data-file-height=\"600\" data-file-width=\"900\" decoding=\"async\" height=\"15\" src=\"//upload.wikimedia.org/wikipedia/commons/thumb/1/17/Flag_of_Rwanda.svg/23px-Flag_of_Rwanda.svg.png\" srcset=\"//upload.wikimedia.org/wikipedia/commons/thumb/1/17/Flag_of_Rwanda.svg/35px-Flag_of_Rwanda.svg.png 1.5x, //upload.wikimedia.org/wikipedia/commons/thumb/1/17/Flag_of_Rwanda.svg/45px-Flag_of_Rwanda.svg.png 2x\" width=\"23\"/>\n",
            "      </span>\n",
            "     </span>\n",
            "    </span>\n",
            "    <a href=\"/wiki/Rwanda\" title=\"Rwanda\">\n",
            "     Rwanda\n",
            "    </a>\n",
            "   </td>\n",
            "   <td>\n",
            "    13,173,730\n",
            "   </td>\n",
            "   <td>\n",
            "    26,338\n",
            "   </td>\n",
            "   <td>\n",
            "    500\n",
            "   </td>\n",
            "  </tr>\n",
            "  <tr>\n",
            "   <td>\n",
            "    8\n",
            "   </td>\n",
            "   <td align=\"left\">\n",
            "    <span class=\"flagicon\">\n",
            "     <span class=\"mw-image-border\" typeof=\"mw:File\">\n",
            "      <span>\n",
            "       <img alt=\"\" class=\"mw-file-element\" data-file-height=\"600\" data-file-width=\"1000\" decoding=\"async\" height=\"14\" src=\"//upload.wikimedia.org/wikipedia/commons/thumb/5/50/Flag_of_Burundi.svg/23px-Flag_of_Burundi.svg.png\" srcset=\"//upload.wikimedia.org/wikipedia/commons/thumb/5/50/Flag_of_Burundi.svg/35px-Flag_of_Burundi.svg.png 1.5x, //upload.wikimedia.org/wikipedia/commons/thumb/5/50/Flag_of_Burundi.svg/46px-Flag_of_Burundi.svg.png 2x\" width=\"23\"/>\n",
            "      </span>\n",
            "     </span>\n",
            "    </span>\n",
            "    <a href=\"/wiki/Burundi\" title=\"Burundi\">\n",
            "     Burundi\n",
            "    </a>\n",
            "   </td>\n",
            "   <td>\n",
            "    12,696,478\n",
            "   </td>\n",
            "   <td>\n",
            "    27,830\n",
            "   </td>\n",
            "   <td>\n",
            "    456\n",
            "   </td>\n",
            "  </tr>\n",
            "  <tr>\n",
            "   <td>\n",
            "    9\n",
            "   </td>\n",
            "   <td align=\"left\">\n",
            "    <span class=\"flagicon\">\n",
            "     <span class=\"mw-image-border\" typeof=\"mw:File\">\n",
            "      <span>\n",
            "       <img alt=\"\" class=\"mw-file-element\" data-file-height=\"800\" data-file-width=\"1100\" decoding=\"async\" height=\"15\" src=\"//upload.wikimedia.org/wikipedia/commons/thumb/d/d4/Flag_of_Israel.svg/21px-Flag_of_Israel.svg.png\" srcset=\"//upload.wikimedia.org/wikipedia/commons/thumb/d/d4/Flag_of_Israel.svg/32px-Flag_of_Israel.svg.png 1.5x, //upload.wikimedia.org/wikipedia/commons/thumb/d/d4/Flag_of_Israel.svg/41px-Flag_of_Israel.svg.png 2x\" width=\"21\"/>\n",
            "      </span>\n",
            "     </span>\n",
            "    </span>\n",
            "    <a href=\"/wiki/Israel\" title=\"Israel\">\n",
            "     Israel\n",
            "    </a>\n",
            "   </td>\n",
            "   <td>\n",
            "    9,402,617\n",
            "   </td>\n",
            "   <td>\n",
            "    21,937\n",
            "   </td>\n",
            "   <td>\n",
            "    429\n",
            "   </td>\n",
            "  </tr>\n",
            "  <tr>\n",
            "   <td>\n",
            "    10\n",
            "   </td>\n",
            "   <td align=\"left\">\n",
            "    <span class=\"flagicon\">\n",
            "     <span class=\"mw-image-border\" typeof=\"mw:File\">\n",
            "      <span>\n",
            "       <img alt=\"\" class=\"mw-file-element\" data-file-height=\"600\" data-file-width=\"900\" decoding=\"async\" height=\"15\" src=\"//upload.wikimedia.org/wikipedia/en/thumb/4/41/Flag_of_India.svg/23px-Flag_of_India.svg.png\" srcset=\"//upload.wikimedia.org/wikipedia/en/thumb/4/41/Flag_of_India.svg/35px-Flag_of_India.svg.png 1.5x, //upload.wikimedia.org/wikipedia/en/thumb/4/41/Flag_of_India.svg/45px-Flag_of_India.svg.png 2x\" width=\"23\"/>\n",
            "      </span>\n",
            "     </span>\n",
            "    </span>\n",
            "    <a href=\"/wiki/India\" title=\"India\">\n",
            "     India\n",
            "    </a>\n",
            "   </td>\n",
            "   <td>\n",
            "    1,389,637,446\n",
            "   </td>\n",
            "   <td>\n",
            "    3,287,263\n",
            "   </td>\n",
            "   <td>\n",
            "    423\n",
            "   </td>\n",
            "  </tr>\n",
            " </tbody>\n",
            "</table>\n",
            "\n",
            "  Rank                       Country     Population       Area Density\n",
            "0    1                     Singapore      5,921,231        719   8,235\n",
            "1    2                    Bangladesh    165,650,475    148,460   1,116\n",
            "2    3  \\n Palestine[note 3][99]\\n\\n      5,223,000      6,025     867\n",
            "3    4                Taiwan[note 4]     23,580,712     35,980     655\n",
            "4    5                   South Korea     51,844,834     99,720     520\n",
            "5    6                       Lebanon      5,296,814     10,400     509\n",
            "6    7                        Rwanda     13,173,730     26,338     500\n",
            "7    8                       Burundi     12,696,478     27,830     456\n",
            "8    9                        Israel      9,402,617     21,937     429\n",
            "9   10                         India  1,389,637,446  3,287,263     423\n"
          ]
        }
      ]
    },
    {
      "cell_type": "code",
      "source": [
        "from io import StringIO\n",
        "tables = soup.find_all('table')\n",
        "len(tables)\n",
        "\n",
        "table_index = -1\n",
        "for index, table in enumerate(tables):\n",
        "    if (\"10 most densely populated countries\" in str(table)):\n",
        "        table_index = index\n",
        "        break\n",
        "\n",
        "table_html = str(tables[table_index]) # Get the HTMLcontent of the table\n",
        "table_io = StringIO(table_html)       # Wrap it in a StringIO object\n",
        "\n",
        "population_data_read_html = pd.read_html(table_io, flavor='bs4')[0]\n",
        "\n",
        "population_data_read_html"
      ],
      "metadata": {
        "colab": {
          "base_uri": "https://localhost:8080/",
          "height": 363
        },
        "id": "IRSkegzJYd-g",
        "outputId": "b33e521c-5e73-47a1-bdb7-6a88edbe7bb9"
      },
      "execution_count": null,
      "outputs": [
        {
          "output_type": "execute_result",
          "data": {
            "text/plain": [
              "   Rank                Country  Population  Area (km2)  Density (pop/km2)\n",
              "0     1              Singapore     5921231         719               8235\n",
              "1     2             Bangladesh   165650475      148460               1116\n",
              "2     3  Palestine[note 3][99]     5223000        6025                867\n",
              "3     4         Taiwan[note 4]    23580712       35980                655\n",
              "4     5            South Korea    51844834       99720                520\n",
              "5     6                Lebanon     5296814       10400                509\n",
              "6     7                 Rwanda    13173730       26338                500\n",
              "7     8                Burundi    12696478       27830                456\n",
              "8     9                 Israel     9402617       21937                429\n",
              "9    10                  India  1389637446     3287263                423"
            ],
            "text/html": [
              "\n",
              "  <div id=\"df-e4dbf038-4778-4034-9069-9f52f926d8c1\" class=\"colab-df-container\">\n",
              "    <div>\n",
              "<style scoped>\n",
              "    .dataframe tbody tr th:only-of-type {\n",
              "        vertical-align: middle;\n",
              "    }\n",
              "\n",
              "    .dataframe tbody tr th {\n",
              "        vertical-align: top;\n",
              "    }\n",
              "\n",
              "    .dataframe thead th {\n",
              "        text-align: right;\n",
              "    }\n",
              "</style>\n",
              "<table border=\"1\" class=\"dataframe\">\n",
              "  <thead>\n",
              "    <tr style=\"text-align: right;\">\n",
              "      <th></th>\n",
              "      <th>Rank</th>\n",
              "      <th>Country</th>\n",
              "      <th>Population</th>\n",
              "      <th>Area (km2)</th>\n",
              "      <th>Density (pop/km2)</th>\n",
              "    </tr>\n",
              "  </thead>\n",
              "  <tbody>\n",
              "    <tr>\n",
              "      <th>0</th>\n",
              "      <td>1</td>\n",
              "      <td>Singapore</td>\n",
              "      <td>5921231</td>\n",
              "      <td>719</td>\n",
              "      <td>8235</td>\n",
              "    </tr>\n",
              "    <tr>\n",
              "      <th>1</th>\n",
              "      <td>2</td>\n",
              "      <td>Bangladesh</td>\n",
              "      <td>165650475</td>\n",
              "      <td>148460</td>\n",
              "      <td>1116</td>\n",
              "    </tr>\n",
              "    <tr>\n",
              "      <th>2</th>\n",
              "      <td>3</td>\n",
              "      <td>Palestine[note 3][99]</td>\n",
              "      <td>5223000</td>\n",
              "      <td>6025</td>\n",
              "      <td>867</td>\n",
              "    </tr>\n",
              "    <tr>\n",
              "      <th>3</th>\n",
              "      <td>4</td>\n",
              "      <td>Taiwan[note 4]</td>\n",
              "      <td>23580712</td>\n",
              "      <td>35980</td>\n",
              "      <td>655</td>\n",
              "    </tr>\n",
              "    <tr>\n",
              "      <th>4</th>\n",
              "      <td>5</td>\n",
              "      <td>South Korea</td>\n",
              "      <td>51844834</td>\n",
              "      <td>99720</td>\n",
              "      <td>520</td>\n",
              "    </tr>\n",
              "    <tr>\n",
              "      <th>5</th>\n",
              "      <td>6</td>\n",
              "      <td>Lebanon</td>\n",
              "      <td>5296814</td>\n",
              "      <td>10400</td>\n",
              "      <td>509</td>\n",
              "    </tr>\n",
              "    <tr>\n",
              "      <th>6</th>\n",
              "      <td>7</td>\n",
              "      <td>Rwanda</td>\n",
              "      <td>13173730</td>\n",
              "      <td>26338</td>\n",
              "      <td>500</td>\n",
              "    </tr>\n",
              "    <tr>\n",
              "      <th>7</th>\n",
              "      <td>8</td>\n",
              "      <td>Burundi</td>\n",
              "      <td>12696478</td>\n",
              "      <td>27830</td>\n",
              "      <td>456</td>\n",
              "    </tr>\n",
              "    <tr>\n",
              "      <th>8</th>\n",
              "      <td>9</td>\n",
              "      <td>Israel</td>\n",
              "      <td>9402617</td>\n",
              "      <td>21937</td>\n",
              "      <td>429</td>\n",
              "    </tr>\n",
              "    <tr>\n",
              "      <th>9</th>\n",
              "      <td>10</td>\n",
              "      <td>India</td>\n",
              "      <td>1389637446</td>\n",
              "      <td>3287263</td>\n",
              "      <td>423</td>\n",
              "    </tr>\n",
              "  </tbody>\n",
              "</table>\n",
              "</div>\n",
              "    <div class=\"colab-df-buttons\">\n",
              "\n",
              "  <div class=\"colab-df-container\">\n",
              "    <button class=\"colab-df-convert\" onclick=\"convertToInteractive('df-e4dbf038-4778-4034-9069-9f52f926d8c1')\"\n",
              "            title=\"Convert this dataframe to an interactive table.\"\n",
              "            style=\"display:none;\">\n",
              "\n",
              "  <svg xmlns=\"http://www.w3.org/2000/svg\" height=\"24px\" viewBox=\"0 -960 960 960\">\n",
              "    <path d=\"M120-120v-720h720v720H120Zm60-500h600v-160H180v160Zm220 220h160v-160H400v160Zm0 220h160v-160H400v160ZM180-400h160v-160H180v160Zm440 0h160v-160H620v160ZM180-180h160v-160H180v160Zm440 0h160v-160H620v160Z\"/>\n",
              "  </svg>\n",
              "    </button>\n",
              "\n",
              "  <style>\n",
              "    .colab-df-container {\n",
              "      display:flex;\n",
              "      gap: 12px;\n",
              "    }\n",
              "\n",
              "    .colab-df-convert {\n",
              "      background-color: #E8F0FE;\n",
              "      border: none;\n",
              "      border-radius: 50%;\n",
              "      cursor: pointer;\n",
              "      display: none;\n",
              "      fill: #1967D2;\n",
              "      height: 32px;\n",
              "      padding: 0 0 0 0;\n",
              "      width: 32px;\n",
              "    }\n",
              "\n",
              "    .colab-df-convert:hover {\n",
              "      background-color: #E2EBFA;\n",
              "      box-shadow: 0px 1px 2px rgba(60, 64, 67, 0.3), 0px 1px 3px 1px rgba(60, 64, 67, 0.15);\n",
              "      fill: #174EA6;\n",
              "    }\n",
              "\n",
              "    .colab-df-buttons div {\n",
              "      margin-bottom: 4px;\n",
              "    }\n",
              "\n",
              "    [theme=dark] .colab-df-convert {\n",
              "      background-color: #3B4455;\n",
              "      fill: #D2E3FC;\n",
              "    }\n",
              "\n",
              "    [theme=dark] .colab-df-convert:hover {\n",
              "      background-color: #434B5C;\n",
              "      box-shadow: 0px 1px 3px 1px rgba(0, 0, 0, 0.15);\n",
              "      filter: drop-shadow(0px 1px 2px rgba(0, 0, 0, 0.3));\n",
              "      fill: #FFFFFF;\n",
              "    }\n",
              "  </style>\n",
              "\n",
              "    <script>\n",
              "      const buttonEl =\n",
              "        document.querySelector('#df-e4dbf038-4778-4034-9069-9f52f926d8c1 button.colab-df-convert');\n",
              "      buttonEl.style.display =\n",
              "        google.colab.kernel.accessAllowed ? 'block' : 'none';\n",
              "\n",
              "      async function convertToInteractive(key) {\n",
              "        const element = document.querySelector('#df-e4dbf038-4778-4034-9069-9f52f926d8c1');\n",
              "        const dataTable =\n",
              "          await google.colab.kernel.invokeFunction('convertToInteractive',\n",
              "                                                    [key], {});\n",
              "        if (!dataTable) return;\n",
              "\n",
              "        const docLinkHtml = 'Like what you see? Visit the ' +\n",
              "          '<a target=\"_blank\" href=https://colab.research.google.com/notebooks/data_table.ipynb>data table notebook</a>'\n",
              "          + ' to learn more about interactive tables.';\n",
              "        element.innerHTML = '';\n",
              "        dataTable['output_type'] = 'display_data';\n",
              "        await google.colab.output.renderOutput(dataTable, element);\n",
              "        const docLink = document.createElement('div');\n",
              "        docLink.innerHTML = docLinkHtml;\n",
              "        element.appendChild(docLink);\n",
              "      }\n",
              "    </script>\n",
              "  </div>\n",
              "\n",
              "\n",
              "<div id=\"df-c10b1e45-a3bc-4fae-b773-41befbe4ebaa\">\n",
              "  <button class=\"colab-df-quickchart\" onclick=\"quickchart('df-c10b1e45-a3bc-4fae-b773-41befbe4ebaa')\"\n",
              "            title=\"Suggest charts\"\n",
              "            style=\"display:none;\">\n",
              "\n",
              "<svg xmlns=\"http://www.w3.org/2000/svg\" height=\"24px\"viewBox=\"0 0 24 24\"\n",
              "     width=\"24px\">\n",
              "    <g>\n",
              "        <path d=\"M19 3H5c-1.1 0-2 .9-2 2v14c0 1.1.9 2 2 2h14c1.1 0 2-.9 2-2V5c0-1.1-.9-2-2-2zM9 17H7v-7h2v7zm4 0h-2V7h2v10zm4 0h-2v-4h2v4z\"/>\n",
              "    </g>\n",
              "</svg>\n",
              "  </button>\n",
              "\n",
              "<style>\n",
              "  .colab-df-quickchart {\n",
              "      --bg-color: #E8F0FE;\n",
              "      --fill-color: #1967D2;\n",
              "      --hover-bg-color: #E2EBFA;\n",
              "      --hover-fill-color: #174EA6;\n",
              "      --disabled-fill-color: #AAA;\n",
              "      --disabled-bg-color: #DDD;\n",
              "  }\n",
              "\n",
              "  [theme=dark] .colab-df-quickchart {\n",
              "      --bg-color: #3B4455;\n",
              "      --fill-color: #D2E3FC;\n",
              "      --hover-bg-color: #434B5C;\n",
              "      --hover-fill-color: #FFFFFF;\n",
              "      --disabled-bg-color: #3B4455;\n",
              "      --disabled-fill-color: #666;\n",
              "  }\n",
              "\n",
              "  .colab-df-quickchart {\n",
              "    background-color: var(--bg-color);\n",
              "    border: none;\n",
              "    border-radius: 50%;\n",
              "    cursor: pointer;\n",
              "    display: none;\n",
              "    fill: var(--fill-color);\n",
              "    height: 32px;\n",
              "    padding: 0;\n",
              "    width: 32px;\n",
              "  }\n",
              "\n",
              "  .colab-df-quickchart:hover {\n",
              "    background-color: var(--hover-bg-color);\n",
              "    box-shadow: 0 1px 2px rgba(60, 64, 67, 0.3), 0 1px 3px 1px rgba(60, 64, 67, 0.15);\n",
              "    fill: var(--button-hover-fill-color);\n",
              "  }\n",
              "\n",
              "  .colab-df-quickchart-complete:disabled,\n",
              "  .colab-df-quickchart-complete:disabled:hover {\n",
              "    background-color: var(--disabled-bg-color);\n",
              "    fill: var(--disabled-fill-color);\n",
              "    box-shadow: none;\n",
              "  }\n",
              "\n",
              "  .colab-df-spinner {\n",
              "    border: 2px solid var(--fill-color);\n",
              "    border-color: transparent;\n",
              "    border-bottom-color: var(--fill-color);\n",
              "    animation:\n",
              "      spin 1s steps(1) infinite;\n",
              "  }\n",
              "\n",
              "  @keyframes spin {\n",
              "    0% {\n",
              "      border-color: transparent;\n",
              "      border-bottom-color: var(--fill-color);\n",
              "      border-left-color: var(--fill-color);\n",
              "    }\n",
              "    20% {\n",
              "      border-color: transparent;\n",
              "      border-left-color: var(--fill-color);\n",
              "      border-top-color: var(--fill-color);\n",
              "    }\n",
              "    30% {\n",
              "      border-color: transparent;\n",
              "      border-left-color: var(--fill-color);\n",
              "      border-top-color: var(--fill-color);\n",
              "      border-right-color: var(--fill-color);\n",
              "    }\n",
              "    40% {\n",
              "      border-color: transparent;\n",
              "      border-right-color: var(--fill-color);\n",
              "      border-top-color: var(--fill-color);\n",
              "    }\n",
              "    60% {\n",
              "      border-color: transparent;\n",
              "      border-right-color: var(--fill-color);\n",
              "    }\n",
              "    80% {\n",
              "      border-color: transparent;\n",
              "      border-right-color: var(--fill-color);\n",
              "      border-bottom-color: var(--fill-color);\n",
              "    }\n",
              "    90% {\n",
              "      border-color: transparent;\n",
              "      border-bottom-color: var(--fill-color);\n",
              "    }\n",
              "  }\n",
              "</style>\n",
              "\n",
              "  <script>\n",
              "    async function quickchart(key) {\n",
              "      const quickchartButtonEl =\n",
              "        document.querySelector('#' + key + ' button');\n",
              "      quickchartButtonEl.disabled = true;  // To prevent multiple clicks.\n",
              "      quickchartButtonEl.classList.add('colab-df-spinner');\n",
              "      try {\n",
              "        const charts = await google.colab.kernel.invokeFunction(\n",
              "            'suggestCharts', [key], {});\n",
              "      } catch (error) {\n",
              "        console.error('Error during call to suggestCharts:', error);\n",
              "      }\n",
              "      quickchartButtonEl.classList.remove('colab-df-spinner');\n",
              "      quickchartButtonEl.classList.add('colab-df-quickchart-complete');\n",
              "    }\n",
              "    (() => {\n",
              "      let quickchartButtonEl =\n",
              "        document.querySelector('#df-c10b1e45-a3bc-4fae-b773-41befbe4ebaa button');\n",
              "      quickchartButtonEl.style.display =\n",
              "        google.colab.kernel.accessAllowed ? 'block' : 'none';\n",
              "    })();\n",
              "  </script>\n",
              "</div>\n",
              "\n",
              "  <div id=\"id_eaa4a357-9825-4529-88b5-3534b4d2298a\">\n",
              "    <style>\n",
              "      .colab-df-generate {\n",
              "        background-color: #E8F0FE;\n",
              "        border: none;\n",
              "        border-radius: 50%;\n",
              "        cursor: pointer;\n",
              "        display: none;\n",
              "        fill: #1967D2;\n",
              "        height: 32px;\n",
              "        padding: 0 0 0 0;\n",
              "        width: 32px;\n",
              "      }\n",
              "\n",
              "      .colab-df-generate:hover {\n",
              "        background-color: #E2EBFA;\n",
              "        box-shadow: 0px 1px 2px rgba(60, 64, 67, 0.3), 0px 1px 3px 1px rgba(60, 64, 67, 0.15);\n",
              "        fill: #174EA6;\n",
              "      }\n",
              "\n",
              "      [theme=dark] .colab-df-generate {\n",
              "        background-color: #3B4455;\n",
              "        fill: #D2E3FC;\n",
              "      }\n",
              "\n",
              "      [theme=dark] .colab-df-generate:hover {\n",
              "        background-color: #434B5C;\n",
              "        box-shadow: 0px 1px 3px 1px rgba(0, 0, 0, 0.15);\n",
              "        filter: drop-shadow(0px 1px 2px rgba(0, 0, 0, 0.3));\n",
              "        fill: #FFFFFF;\n",
              "      }\n",
              "    </style>\n",
              "    <button class=\"colab-df-generate\" onclick=\"generateWithVariable('population_data_read_html')\"\n",
              "            title=\"Generate code using this dataframe.\"\n",
              "            style=\"display:none;\">\n",
              "\n",
              "  <svg xmlns=\"http://www.w3.org/2000/svg\" height=\"24px\"viewBox=\"0 0 24 24\"\n",
              "       width=\"24px\">\n",
              "    <path d=\"M7,19H8.4L18.45,9,17,7.55,7,17.6ZM5,21V16.75L18.45,3.32a2,2,0,0,1,2.83,0l1.4,1.43a1.91,1.91,0,0,1,.58,1.4,1.91,1.91,0,0,1-.58,1.4L9.25,21ZM18.45,9,17,7.55Zm-12,3A5.31,5.31,0,0,0,4.9,8.1,5.31,5.31,0,0,0,1,6.5,5.31,5.31,0,0,0,4.9,4.9,5.31,5.31,0,0,0,6.5,1,5.31,5.31,0,0,0,8.1,4.9,5.31,5.31,0,0,0,12,6.5,5.46,5.46,0,0,0,6.5,12Z\"/>\n",
              "  </svg>\n",
              "    </button>\n",
              "    <script>\n",
              "      (() => {\n",
              "      const buttonEl =\n",
              "        document.querySelector('#id_eaa4a357-9825-4529-88b5-3534b4d2298a button.colab-df-generate');\n",
              "      buttonEl.style.display =\n",
              "        google.colab.kernel.accessAllowed ? 'block' : 'none';\n",
              "\n",
              "      buttonEl.onclick = () => {\n",
              "        google.colab.notebook.generateWithVariable('population_data_read_html');\n",
              "      }\n",
              "      })();\n",
              "    </script>\n",
              "  </div>\n",
              "\n",
              "    </div>\n",
              "  </div>\n"
            ],
            "application/vnd.google.colaboratory.intrinsic+json": {
              "type": "dataframe",
              "variable_name": "population_data_read_html",
              "summary": "{\n  \"name\": \"population_data_read_html\",\n  \"rows\": 10,\n  \"fields\": [\n    {\n      \"column\": \"Rank\",\n      \"properties\": {\n        \"dtype\": \"number\",\n        \"std\": 3,\n        \"min\": 1,\n        \"max\": 10,\n        \"num_unique_values\": 10,\n        \"samples\": [\n          9,\n          2,\n          6\n        ],\n        \"semantic_type\": \"\",\n        \"description\": \"\"\n      }\n    },\n    {\n      \"column\": \"Country\",\n      \"properties\": {\n        \"dtype\": \"string\",\n        \"num_unique_values\": 10,\n        \"samples\": [\n          \"Israel\",\n          \"Bangladesh\",\n          \"Lebanon\"\n        ],\n        \"semantic_type\": \"\",\n        \"description\": \"\"\n      }\n    },\n    {\n      \"column\": \"Population\",\n      \"properties\": {\n        \"dtype\": \"number\",\n        \"std\": 431950823,\n        \"min\": 5223000,\n        \"max\": 1389637446,\n        \"num_unique_values\": 10,\n        \"samples\": [\n          9402617,\n          165650475,\n          5296814\n        ],\n        \"semantic_type\": \"\",\n        \"description\": \"\"\n      }\n    },\n    {\n      \"column\": \"Area (km2)\",\n      \"properties\": {\n        \"dtype\": \"number\",\n        \"std\": 1027320,\n        \"min\": 719,\n        \"max\": 3287263,\n        \"num_unique_values\": 10,\n        \"samples\": [\n          21937,\n          148460,\n          10400\n        ],\n        \"semantic_type\": \"\",\n        \"description\": \"\"\n      }\n    },\n    {\n      \"column\": \"Density (pop/km2)\",\n      \"properties\": {\n        \"dtype\": \"number\",\n        \"std\": 2422,\n        \"min\": 423,\n        \"max\": 8235,\n        \"num_unique_values\": 10,\n        \"samples\": [\n          429,\n          1116,\n          509\n        ],\n        \"semantic_type\": \"\",\n        \"description\": \"\"\n      }\n    }\n  ]\n}"
            }
          },
          "metadata": {},
          "execution_count": 68
        }
      ]
    },
    {
      "cell_type": "code",
      "source": [
        "pd.read_html(url, match=\"10 most densely populated countries\", flavor='bs4')[0]"
      ],
      "metadata": {
        "colab": {
          "base_uri": "https://localhost:8080/",
          "height": 372
        },
        "id": "86yoTqxOa3lh",
        "outputId": "c849bffb-00e6-483a-aa78-04ca507f287c"
      },
      "execution_count": null,
      "outputs": [
        {
          "output_type": "error",
          "ename": "ValueError",
          "evalue": "No tables found matching pattern '10 most densely populated countries'",
          "traceback": [
            "\u001b[0;31m---------------------------------------------------------------------------\u001b[0m",
            "\u001b[0;31mValueError\u001b[0m                                Traceback (most recent call last)",
            "\u001b[0;32m<ipython-input-71-130c1e1a6ce9>\u001b[0m in \u001b[0;36m<cell line: 0>\u001b[0;34m()\u001b[0m\n\u001b[0;32m----> 1\u001b[0;31m \u001b[0mpd\u001b[0m\u001b[0;34m.\u001b[0m\u001b[0mread_html\u001b[0m\u001b[0;34m(\u001b[0m\u001b[0murl\u001b[0m\u001b[0;34m,\u001b[0m \u001b[0mmatch\u001b[0m\u001b[0;34m=\u001b[0m\u001b[0;34m\"10 most densely populated countries\"\u001b[0m\u001b[0;34m,\u001b[0m \u001b[0mflavor\u001b[0m\u001b[0;34m=\u001b[0m\u001b[0;34m'bs4'\u001b[0m\u001b[0;34m)\u001b[0m\u001b[0;34m[\u001b[0m\u001b[0;36m0\u001b[0m\u001b[0;34m]\u001b[0m\u001b[0;34m\u001b[0m\u001b[0;34m\u001b[0m\u001b[0m\n\u001b[0m",
            "\u001b[0;32m/usr/local/lib/python3.11/dist-packages/pandas/io/html.py\u001b[0m in \u001b[0;36mread_html\u001b[0;34m(io, match, flavor, header, index_col, skiprows, attrs, parse_dates, thousands, encoding, decimal, converters, na_values, keep_default_na, displayed_only, extract_links, dtype_backend, storage_options)\u001b[0m\n\u001b[1;32m   1238\u001b[0m         )\n\u001b[1;32m   1239\u001b[0m \u001b[0;34m\u001b[0m\u001b[0m\n\u001b[0;32m-> 1240\u001b[0;31m     return _parse(\n\u001b[0m\u001b[1;32m   1241\u001b[0m         \u001b[0mflavor\u001b[0m\u001b[0;34m=\u001b[0m\u001b[0mflavor\u001b[0m\u001b[0;34m,\u001b[0m\u001b[0;34m\u001b[0m\u001b[0;34m\u001b[0m\u001b[0m\n\u001b[1;32m   1242\u001b[0m         \u001b[0mio\u001b[0m\u001b[0;34m=\u001b[0m\u001b[0mio\u001b[0m\u001b[0;34m,\u001b[0m\u001b[0;34m\u001b[0m\u001b[0;34m\u001b[0m\u001b[0m\n",
            "\u001b[0;32m/usr/local/lib/python3.11/dist-packages/pandas/io/html.py\u001b[0m in \u001b[0;36m_parse\u001b[0;34m(flavor, io, match, attrs, encoding, displayed_only, extract_links, storage_options, **kwargs)\u001b[0m\n\u001b[1;32m   1001\u001b[0m     \u001b[0;32melse\u001b[0m\u001b[0;34m:\u001b[0m\u001b[0;34m\u001b[0m\u001b[0;34m\u001b[0m\u001b[0m\n\u001b[1;32m   1002\u001b[0m         \u001b[0;32massert\u001b[0m \u001b[0mretained\u001b[0m \u001b[0;32mis\u001b[0m \u001b[0;32mnot\u001b[0m \u001b[0;32mNone\u001b[0m  \u001b[0;31m# for mypy\u001b[0m\u001b[0;34m\u001b[0m\u001b[0;34m\u001b[0m\u001b[0m\n\u001b[0;32m-> 1003\u001b[0;31m         \u001b[0;32mraise\u001b[0m \u001b[0mretained\u001b[0m\u001b[0;34m\u001b[0m\u001b[0;34m\u001b[0m\u001b[0m\n\u001b[0m\u001b[1;32m   1004\u001b[0m \u001b[0;34m\u001b[0m\u001b[0m\n\u001b[1;32m   1005\u001b[0m     \u001b[0mret\u001b[0m \u001b[0;34m=\u001b[0m \u001b[0;34m[\u001b[0m\u001b[0;34m]\u001b[0m\u001b[0;34m\u001b[0m\u001b[0;34m\u001b[0m\u001b[0m\n",
            "\u001b[0;32m/usr/local/lib/python3.11/dist-packages/pandas/io/html.py\u001b[0m in \u001b[0;36m_parse\u001b[0;34m(flavor, io, match, attrs, encoding, displayed_only, extract_links, storage_options, **kwargs)\u001b[0m\n\u001b[1;32m    981\u001b[0m \u001b[0;34m\u001b[0m\u001b[0m\n\u001b[1;32m    982\u001b[0m         \u001b[0;32mtry\u001b[0m\u001b[0;34m:\u001b[0m\u001b[0;34m\u001b[0m\u001b[0;34m\u001b[0m\u001b[0m\n\u001b[0;32m--> 983\u001b[0;31m             \u001b[0mtables\u001b[0m \u001b[0;34m=\u001b[0m \u001b[0mp\u001b[0m\u001b[0;34m.\u001b[0m\u001b[0mparse_tables\u001b[0m\u001b[0;34m(\u001b[0m\u001b[0;34m)\u001b[0m\u001b[0;34m\u001b[0m\u001b[0;34m\u001b[0m\u001b[0m\n\u001b[0m\u001b[1;32m    984\u001b[0m         \u001b[0;32mexcept\u001b[0m \u001b[0mValueError\u001b[0m \u001b[0;32mas\u001b[0m \u001b[0mcaught\u001b[0m\u001b[0;34m:\u001b[0m\u001b[0;34m\u001b[0m\u001b[0;34m\u001b[0m\u001b[0m\n\u001b[1;32m    985\u001b[0m             \u001b[0;31m# if `io` is an io-like object, check if it's seekable\u001b[0m\u001b[0;34m\u001b[0m\u001b[0;34m\u001b[0m\u001b[0m\n",
            "\u001b[0;32m/usr/local/lib/python3.11/dist-packages/pandas/io/html.py\u001b[0m in \u001b[0;36mparse_tables\u001b[0;34m(self)\u001b[0m\n\u001b[1;32m    247\u001b[0m         \u001b[0mlist\u001b[0m \u001b[0mof\u001b[0m \u001b[0mparsed\u001b[0m \u001b[0;34m(\u001b[0m\u001b[0mheader\u001b[0m\u001b[0;34m,\u001b[0m \u001b[0mbody\u001b[0m\u001b[0;34m,\u001b[0m \u001b[0mfooter\u001b[0m\u001b[0;34m)\u001b[0m \u001b[0mtuples\u001b[0m \u001b[0;32mfrom\u001b[0m \u001b[0mtables\u001b[0m\u001b[0;34m.\u001b[0m\u001b[0;34m\u001b[0m\u001b[0;34m\u001b[0m\u001b[0m\n\u001b[1;32m    248\u001b[0m         \"\"\"\n\u001b[0;32m--> 249\u001b[0;31m         \u001b[0mtables\u001b[0m \u001b[0;34m=\u001b[0m \u001b[0mself\u001b[0m\u001b[0;34m.\u001b[0m\u001b[0m_parse_tables\u001b[0m\u001b[0;34m(\u001b[0m\u001b[0mself\u001b[0m\u001b[0;34m.\u001b[0m\u001b[0m_build_doc\u001b[0m\u001b[0;34m(\u001b[0m\u001b[0;34m)\u001b[0m\u001b[0;34m,\u001b[0m \u001b[0mself\u001b[0m\u001b[0;34m.\u001b[0m\u001b[0mmatch\u001b[0m\u001b[0;34m,\u001b[0m \u001b[0mself\u001b[0m\u001b[0;34m.\u001b[0m\u001b[0mattrs\u001b[0m\u001b[0;34m)\u001b[0m\u001b[0;34m\u001b[0m\u001b[0;34m\u001b[0m\u001b[0m\n\u001b[0m\u001b[1;32m    250\u001b[0m         \u001b[0;32mreturn\u001b[0m \u001b[0;34m(\u001b[0m\u001b[0mself\u001b[0m\u001b[0;34m.\u001b[0m\u001b[0m_parse_thead_tbody_tfoot\u001b[0m\u001b[0;34m(\u001b[0m\u001b[0mtable\u001b[0m\u001b[0;34m)\u001b[0m \u001b[0;32mfor\u001b[0m \u001b[0mtable\u001b[0m \u001b[0;32min\u001b[0m \u001b[0mtables\u001b[0m\u001b[0;34m)\u001b[0m\u001b[0;34m\u001b[0m\u001b[0;34m\u001b[0m\u001b[0m\n\u001b[1;32m    251\u001b[0m \u001b[0;34m\u001b[0m\u001b[0m\n",
            "\u001b[0;32m/usr/local/lib/python3.11/dist-packages/pandas/io/html.py\u001b[0m in \u001b[0;36m_parse_tables\u001b[0;34m(self, document, match, attrs)\u001b[0m\n\u001b[1;32m    614\u001b[0m             \u001b[0munique_tables\u001b[0m\u001b[0;34m.\u001b[0m\u001b[0madd\u001b[0m\u001b[0;34m(\u001b[0m\u001b[0mtable\u001b[0m\u001b[0;34m)\u001b[0m\u001b[0;34m\u001b[0m\u001b[0;34m\u001b[0m\u001b[0m\n\u001b[1;32m    615\u001b[0m         \u001b[0;32mif\u001b[0m \u001b[0;32mnot\u001b[0m \u001b[0mresult\u001b[0m\u001b[0;34m:\u001b[0m\u001b[0;34m\u001b[0m\u001b[0;34m\u001b[0m\u001b[0m\n\u001b[0;32m--> 616\u001b[0;31m             \u001b[0;32mraise\u001b[0m \u001b[0mValueError\u001b[0m\u001b[0;34m(\u001b[0m\u001b[0;34mf\"No tables found matching pattern {repr(match.pattern)}\"\u001b[0m\u001b[0;34m)\u001b[0m\u001b[0;34m\u001b[0m\u001b[0;34m\u001b[0m\u001b[0m\n\u001b[0m\u001b[1;32m    617\u001b[0m         \u001b[0;32mreturn\u001b[0m \u001b[0mresult\u001b[0m\u001b[0;34m\u001b[0m\u001b[0;34m\u001b[0m\u001b[0m\n\u001b[1;32m    618\u001b[0m \u001b[0;34m\u001b[0m\u001b[0m\n",
            "\u001b[0;31mValueError\u001b[0m: No tables found matching pattern '10 most densely populated countries'"
          ]
        }
      ]
    },
    {
      "cell_type": "code",
      "source": [],
      "metadata": {
        "id": "mwgOxmvNcE50"
      },
      "execution_count": null,
      "outputs": []
    }
  ]
}